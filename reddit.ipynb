{
  "nbformat": 4,
  "nbformat_minor": 0,
  "metadata": {
    "colab": {
      "provenance": []
    },
    "kernelspec": {
      "name": "python3",
      "display_name": "Python 3"
    },
    "language_info": {
      "name": "python"
    }
  },
  "cells": [
    {
      "cell_type": "code",
      "execution_count": 2,
      "metadata": {
        "colab": {
          "base_uri": "https://localhost:8080/"
        },
        "id": "uam_iDrrZqYw",
        "outputId": "59c97190-97c2-4351-8202-0df9a169630b"
      },
      "outputs": [
        {
          "output_type": "stream",
          "name": "stdout",
          "text": [
            "\u001b[?25l   \u001b[90m━━━━━━━━━━━━━━━━━━━━━━━━━━━━━━━━━━━━━━━━\u001b[0m \u001b[32m0.0/129.1 kB\u001b[0m \u001b[31m?\u001b[0m eta \u001b[36m-:--:--\u001b[0m\r\u001b[2K   \u001b[90m━━━━━━━━━━━━━━━━━━━━━━━━━━━━━━━━━━━━━━━━\u001b[0m \u001b[32m129.1/129.1 kB\u001b[0m \u001b[31m4.9 MB/s\u001b[0m eta \u001b[36m0:00:00\u001b[0m\n",
            "\u001b[?25h\u001b[?25l   \u001b[90m━━━━━━━━━━━━━━━━━━━━━━━━━━━━━━━━━━━━━━━━\u001b[0m \u001b[32m0.0/85.7 kB\u001b[0m \u001b[31m?\u001b[0m eta \u001b[36m-:--:--\u001b[0m\r\u001b[2K   \u001b[90m━━━━━━━━━━━━━━━━━━━━━━━━━━━━━━━━━━━━━━━━\u001b[0m \u001b[32m85.7/85.7 kB\u001b[0m \u001b[31m6.2 MB/s\u001b[0m eta \u001b[36m0:00:00\u001b[0m\n",
            "\u001b[?25hPackages installed (or already present).\n"
          ]
        }
      ],
      "source": [
        "# Install required packages\n",
        "!pip install -q keras-tuner shap category_encoders\n",
        "print('Packages installed (or already present).')"
      ]
    },
    {
      "cell_type": "code",
      "source": [
        "import os, math, gc\n",
        "import numpy as np, pandas as pd\n",
        "import tensorflow as tf\n",
        "from tensorflow import keras\n",
        "from tensorflow.keras import layers\n",
        "from sklearn.model_selection import KFold, StratifiedKFold\n",
        "from sklearn.preprocessing import StandardScaler\n",
        "from sklearn.metrics import mean_squared_error, roc_auc_score, log_loss, accuracy_score\n",
        "\n",
        "# Use on_bad_lines='skip' to skip the problematic line\n",
        "train = pd.read_csv('/content/xy_train.csv', on_bad_lines='skip')\n",
        "test  = pd.read_csv('/content/x_test.csv')\n",
        "sample_submission = pd.read_csv('/content/sample_submission.csv')\n",
        "\n",
        "# Auto-detect target\n",
        "target_candidates = [c for c in train.columns if c.lower() in ('target','label','y')]\n",
        "target = target_candidates[0] if target_candidates else train.columns[-1]\n",
        "y_series = train[target]\n",
        "if (y_series.dtype.kind in 'f' and y_series.nunique()>20):\n",
        "    problem_type='regression'\n",
        "elif y_series.nunique()==2:\n",
        "    problem_type='binary'\n",
        "elif 2<y_series.nunique()<=20:\n",
        "    problem_type='multiclass'\n",
        "else:\n",
        "    problem_type='regression'\n",
        "\n",
        "print('Target:', target)\n",
        "print('Problem type:', problem_type)\n",
        "print('train.shape', train.shape, 'test.shape', test.shape)"
      ],
      "metadata": {
        "colab": {
          "base_uri": "https://localhost:8080/"
        },
        "id": "dehP12p5a4VQ",
        "outputId": "a0074f58-ef9f-482f-ed4f-252abdc20492"
      },
      "execution_count": 4,
      "outputs": [
        {
          "output_type": "stream",
          "name": "stdout",
          "text": [
            "Target: label\n",
            "Problem type: multiclass\n",
            "train.shape (48000, 3) test.shape (11955, 2)\n"
          ]
        }
      ]
    },
    {
      "cell_type": "code",
      "source": [
        "# Preprocessing: numeric impute + indicators, categorical top-K mapping, scaling\n",
        "num_cols = train.select_dtypes(include=[np.number]).columns.tolist()\n",
        "if target in num_cols: num_cols.remove(target)\n",
        "cat_cols = [c for c in train.columns if c not in num_cols+[target] and train[c].dtype=='object']\n",
        "\n",
        "print('Numeric cols:', len(num_cols), 'Categorical cols:', len(cat_cols))\n",
        "\n",
        "train_tf = train.copy(); test_tf = test.copy()\n",
        "\n",
        "# Numeric imputation + indicator\n",
        "for c in num_cols:\n",
        "    med = train_tf[c].median()\n",
        "    train_tf[c].fillna(med, inplace=True)\n",
        "    test_tf[c].fillna(med, inplace=True)\n",
        "    train_tf[c + '_nan'] = train[c].isna().astype(int)\n",
        "    test_tf[c + '_nan'] = test[c].isna().astype(int)\n",
        "\n",
        "num_cols_ext = num_cols + [c + '_nan' for c in num_cols]\n",
        "\n",
        "# Categorical: top-K cap and mapping\n",
        "TOPK = 10000\n",
        "cat_maps = {}\n",
        "cat_cardinalities = {}\n",
        "for c in cat_cols:\n",
        "    train_tf[c] = train_tf[c].fillna('___missing___').astype(str)\n",
        "    test_tf[c]  = test_tf[c].fillna('___missing___').astype(str)\n",
        "    vc = train_tf[c].value_counts()\n",
        "    if len(vc) > TOPK:\n",
        "        keep = set(vc.index[:TOPK])\n",
        "        train_tf[c] = train_tf[c].apply(lambda x: x if x in keep else '__other__')\n",
        "        test_tf[c]  = test_tf[c].apply(lambda x: x if x in keep else '__other__')\n",
        "        vc = train_tf[c].value_counts()\n",
        "    uniq = list(vc.index)\n",
        "    mapping = {k:i+1 for i,k in enumerate(uniq)}  # reserve 0 for unknown\n",
        "    mapping['__other__'] = 0\n",
        "    cat_maps[c] = mapping\n",
        "    cat_cardinalities[c] = max(1, len(mapping))\n",
        "\n",
        "# Apply mapping arrays\n",
        "if len(cat_cols) > 0:\n",
        "    X_cat_train = np.stack([train_tf[c].map(lambda x: cat_maps[c].get(x,0)).astype(np.int32).values for c in cat_cols], axis=1)\n",
        "    X_cat_test  = np.stack([test_tf[c].map(lambda x: cat_maps[c].get(x,0)).astype(np.int32).values for c in cat_cols], axis=1)\n",
        "else:\n",
        "    X_cat_train = np.zeros((len(train_tf),0), dtype=np.int32)\n",
        "    X_cat_test  = np.zeros((len(test_tf),0), dtype=np.int32)\n",
        "\n",
        "# Scale numeric features\n",
        "scaler = StandardScaler()\n",
        "X_num_train = scaler.fit_transform(train_tf[num_cols_ext].astype(float).values)\n",
        "X_num_test  = scaler.transform(test_tf[num_cols_ext].astype(float).values)\n",
        "\n",
        "y = train_tf[target].values\n",
        "\n",
        "print('Shapes -> X_num:', X_num_train.shape, 'X_cat:', X_cat_train.shape)"
      ],
      "metadata": {
        "colab": {
          "base_uri": "https://localhost:8080/"
        },
        "id": "VfbL76Fzb2ih",
        "outputId": "24e77f70-554a-4a6d-bb92-4eca41f84e85"
      },
      "execution_count": 5,
      "outputs": [
        {
          "output_type": "stream",
          "name": "stdout",
          "text": [
            "Numeric cols: 1 Categorical cols: 1\n",
            "Shapes -> X_num: (48000, 2) X_cat: (48000, 1)\n"
          ]
        },
        {
          "output_type": "stream",
          "name": "stderr",
          "text": [
            "/tmp/ipython-input-4186526252.py:13: FutureWarning: A value is trying to be set on a copy of a DataFrame or Series through chained assignment using an inplace method.\n",
            "The behavior will change in pandas 3.0. This inplace method will never work because the intermediate object on which we are setting values always behaves as a copy.\n",
            "\n",
            "For example, when doing 'df[col].method(value, inplace=True)', try using 'df.method({col: value}, inplace=True)' or df[col] = df[col].method(value) instead, to perform the operation inplace on the original object.\n",
            "\n",
            "\n",
            "  train_tf[c].fillna(med, inplace=True)\n",
            "/tmp/ipython-input-4186526252.py:14: FutureWarning: A value is trying to be set on a copy of a DataFrame or Series through chained assignment using an inplace method.\n",
            "The behavior will change in pandas 3.0. This inplace method will never work because the intermediate object on which we are setting values always behaves as a copy.\n",
            "\n",
            "For example, when doing 'df[col].method(value, inplace=True)', try using 'df.method({col: value}, inplace=True)' or df[col] = df[col].method(value) instead, to perform the operation inplace on the original object.\n",
            "\n",
            "\n",
            "  test_tf[c].fillna(med, inplace=True)\n"
          ]
        }
      ]
    },
    {
      "cell_type": "code",
      "source": [
        "# Leakage-safe target encoding (CV-based)\n",
        "from sklearn.model_selection import KFold, StratifiedKFold\n",
        "\n",
        "def target_encode_cv(train_df, test_df, col, target_col, n_splits=5, problem_type='regression', smoothing=0.3):\n",
        "    te_vals = np.zeros(len(train_df))\n",
        "    global_mean = train_df[target_col].mean()\n",
        "    kf = StratifiedKFold(n_splits=n_splits, shuffle=True, random_state=42) if (problem_type!='regression' and train_df[target_col].nunique()>1) else KFold(n_splits=n_splits, shuffle=True, random_state=42)\n",
        "    for tr_idx, val_idx in kf.split(train_df, train_df[target_col] if problem_type!='regression' else None):\n",
        "        grp = train_df.iloc[tr_idx].groupby(col)[target_col].agg(['mean','count'])\n",
        "        smooth = (grp['count'] * grp['mean'] + smoothing * global_mean) / (grp['count'] + smoothing)\n",
        "        mapping = smooth.to_dict()\n",
        "        te_vals[val_idx] = train_df.iloc[val_idx][col].map(mapping).fillna(global_mean).values\n",
        "    full_grp = train_df.groupby(col)[target_col].agg(['mean','count'])\n",
        "    smooth_full = (full_grp['count'] * full_grp['mean'] + smoothing * global_mean) / (full_grp['count'] + smoothing)\n",
        "    test_enc = test_df[col].map(smooth_full.to_dict()).fillna(global_mean).values\n",
        "    return te_vals, test_enc\n",
        "\n",
        "# Toggle target encoding here (limit number of columns to avoid slowdown)\n",
        "apply_te = True\n",
        "if apply_te and len(cat_cols) > 0:\n",
        "    te_cols = cat_cols[:2]  # adjust as needed\n",
        "    for c in te_cols:\n",
        "        print('Applying TE to', c)\n",
        "        tr_enc, te_enc = target_encode_cv(train_tf, test_tf, c, target, n_splits=5, problem_type=problem_type)\n",
        "        X_num_train = np.hstack([X_num_train, tr_enc.reshape(-1,1)])\n",
        "        X_num_test  = np.hstack([X_num_test, te_enc.reshape(-1,1)])\n",
        "    print('New numeric shape:', X_num_train.shape)"
      ],
      "metadata": {
        "colab": {
          "base_uri": "https://localhost:8080/"
        },
        "id": "3a_h7_dJcSsf",
        "outputId": "55868bda-5818-4919-c028-c9da99d16388"
      },
      "execution_count": 6,
      "outputs": [
        {
          "output_type": "stream",
          "name": "stdout",
          "text": [
            "Applying TE to text\n",
            "New numeric shape: (48000, 3)\n"
          ]
        }
      ]
    },
    {
      "cell_type": "code",
      "source": [
        "# tf.data dataset helpers with numeric noise augmentation\n",
        "import tensorflow as tf\n",
        "\n",
        "def make_dataset(X_num, X_cat, y=None, batch_size=256, shuffle=False, augment=False, noise_std=0.01):\n",
        "    ds_num = tf.data.Dataset.from_tensor_slices(X_num.astype('float32'))\n",
        "    ds_cat = tf.data.Dataset.from_tensor_slices(X_cat.astype('int32'))\n",
        "    if y is not None:\n",
        "        ds_y = tf.data.Dataset.from_tensor_slices(y)\n",
        "        ds = tf.data.Dataset.zip((ds_num, ds_cat, ds_y))\n",
        "    else:\n",
        "        ds = tf.data.Dataset.zip((ds_num, ds_cat))\n",
        "    if shuffle and y is not None:\n",
        "        ds = ds.shuffle(buffer_size=len(X_num), seed=42)\n",
        "    def pack(num, cat, lab=None):\n",
        "        if y is not None:\n",
        "            if augment:\n",
        "                num = num + tf.random.normal(tf.shape(num), stddev=noise_std)\n",
        "            return ({'num': num, 'cat': cat}, lab)\n",
        "        else:\n",
        "            return ({'num': num, 'cat': cat})\n",
        "    if y is not None:\n",
        "        ds = ds.map(pack, num_parallel_calls=tf.data.AUTOTUNE)\n",
        "    else:\n",
        "        ds = ds.map(lambda num,cat: ({'num': num, 'cat': cat}), num_parallel_calls=tf.data.AUTOTUNE)\n",
        "    ds = ds.batch(batch_size).prefetch(tf.data.AUTOTUNE)\n",
        "    return ds"
      ],
      "metadata": {
        "id": "6DF6odKccX05"
      },
      "execution_count": 7,
      "outputs": []
    },
    {
      "cell_type": "code",
      "source": [
        "# Advanced model builder: embeddings + transformer blocks + MLP head\n",
        "# import tensorflow_addons as tfa # Removed tensorflow_addons import\n",
        "\n",
        "def transformer_block(x, num_heads=4, key_dim=32, ff_dim=128, dropout=0.1, l2_reg=1e-5):\n",
        "    attn = layers.MultiHeadAttention(num_heads=num_heads, key_dim=key_dim)(x, x)\n",
        "    attn = layers.Dropout(dropout)(attn)\n",
        "    out1 = layers.LayerNormalization(epsilon=1e-6)(x + attn)\n",
        "    ff = layers.Dense(ff_dim, activation='relu', kernel_regularizer=keras.regularizers.l2(l2_reg))(out1)\n",
        "    ff = layers.Dense(out1.shape[-1], kernel_regularizer=keras.regularizers.l2(l2_reg))(ff)\n",
        "    ff = layers.Dropout(dropout)(ff)\n",
        "    return layers.LayerNormalization(epsilon=1e-6)(out1 + ff)\n",
        "\n",
        "def build_advanced_model(cat_cardinalities, num_input_dim,\n",
        "                         emb_dropout=0.12, embed_dim_rule='sqrt',\n",
        "                         n_transformer_blocks=2, num_heads=4, key_dim=32, ff_dim=128,\n",
        "                         mlp_units=[512,256], mlp_dropout=0.2, l2_reg=1e-5):\n",
        "    num_in = layers.Input(shape=(num_input_dim,), name='num', dtype=tf.float32)\n",
        "    cat_in = layers.Input(shape=(len(cat_cardinalities),), name='cat', dtype=tf.int32)\n",
        "\n",
        "    embeds = []\n",
        "    for i,(col,card) in enumerate(cat_cardinalities.items()):\n",
        "        if embed_dim_rule == 'sqrt':\n",
        "            emb_dim = max(4, int(min(50, math.sqrt(card))))\n",
        "        elif isinstance(embed_dim_rule, int):\n",
        "            emb_dim = embed_dim_rule\n",
        "        else:\n",
        "            emb_dim = max(4, int(min(50, math.sqrt(card))))\n",
        "        slice_i = layers.Lambda(lambda x, i=i: x[:, i:i+1])(cat_in)\n",
        "        e = layers.Embedding(input_dim=card+1, output_dim=emb_dim,\n",
        "                             embeddings_regularizer=keras.regularizers.l2(l2_reg))(slice_i)\n",
        "        e = layers.Reshape((emb_dim,))(e)\n",
        "        embeds.append(e)\n",
        "    if len(embeds) > 0:\n",
        "        cat_embed = layers.Concatenate()(embeds)\n",
        "        cat_embed = layers.Dropout(emb_dropout)(cat_embed)\n",
        "    else:\n",
        "        cat_embed = None\n",
        "\n",
        "    num_branch = layers.LayerNormalization()(num_in)\n",
        "    num_branch = layers.Dense(128, activation='relu', kernel_regularizer=keras.regularizers.l2(l2_reg))(num_branch)\n",
        "    num_branch = layers.Dropout(mlp_dropout)(num_branch)\n",
        "\n",
        "    if cat_embed is not None:\n",
        "        num_token = layers.Dense(64, activation='relu', kernel_regularizer=keras.regularizers.l2(l2_reg))(num_branch)\n",
        "        split_tokens = []\n",
        "        total_dim = int(cat_embed.shape[-1])\n",
        "        n_cat = len(embeds)\n",
        "        per = max(1, total_dim // n_cat)\n",
        "        for i in range(n_cat):\n",
        "            start = i*per\n",
        "            end = start + per if i < n_cat-1 else total_dim\n",
        "            token = layers.Lambda(lambda x, s=start, e=end: x[:, s:e])(cat_embed)\n",
        "            token = layers.Dense(64, activation='relu', kernel_regularizer=keras.regularizers.l2(l2_reg))(token)\n",
        "            split_tokens.append(layers.Reshape((1, int(token.shape[-1])))(token))\n",
        "        tokens = [layers.Reshape((1, int(num_token.shape[-1])))(num_token)] + split_tokens\n",
        "        seq = layers.Concatenate(axis=1)(tokens)\n",
        "    else:\n",
        "        seq = layers.Reshape((1, int(num_branch.shape[-1])))(num_branch)\n",
        "\n",
        "    x = seq\n",
        "    for _ in range(n_transformer_blocks):\n",
        "        x = transformer_block(x, num_heads=num_heads, key_dim=key_dim, ff_dim=ff_dim, dropout=mlp_dropout, l2_reg=l2_reg)\n",
        "\n",
        "    x = layers.GlobalAveragePooling1D()(x)\n",
        "\n",
        "    if cat_embed is not None:\n",
        "        h = layers.Concatenate()([x, num_branch, cat_embed])\n",
        "    else:\n",
        "        h = layers.Concatenate()([x, num_branch])\n",
        "\n",
        "    for u in mlp_units:\n",
        "        h = layers.Dense(u, activation='relu', kernel_regularizer=keras.regularizers.l2(l2_reg))(h)\n",
        "        h = layers.LayerNormalization()(h)\n",
        "        h = layers.Dropout(mlp_dropout)(h)\n",
        "\n",
        "    if problem_type == 'regression':\n",
        "        out = layers.Dense(1, dtype='float32', name='out')(h)\n",
        "        loss = 'mse'; metrics=[keras.metrics.RootMeanSquaredError()]\n",
        "    elif problem_type == 'binary':\n",
        "        out = layers.Dense(1, activation='sigmoid', dtype='float32', name='out')(h)\n",
        "        loss = 'binary_crossentropy'; metrics=[keras.metrics.AUC()]\n",
        "    else:\n",
        "        n_classes = int(np.unique(y).shape[0])\n",
        "        out = layers.Dense(n_classes, activation='softmax', dtype='float32', name='out')(h)\n",
        "        loss = 'sparse_categorical_crossentropy'; metrics=['sparse_categorical_accuracy']\n",
        "\n",
        "    model = keras.Model(inputs=[num_in, cat_in], outputs=out)\n",
        "    # try:\n",
        "    #     opt = tfa.optimizers.AdamW(learning_rate=1e-3, weight_decay=1e-5)\n",
        "    # except Exception:\n",
        "    opt = keras.optimizers.Adam(learning_rate=1e-3)\n",
        "    model.compile(optimizer=opt, loss=loss, metrics=metrics)\n",
        "    return model"
      ],
      "metadata": {
        "id": "EnrlsfsIciBZ"
      },
      "execution_count": 11,
      "outputs": []
    },
    {
      "cell_type": "code",
      "source": [
        "# Quick demo build to ensure model compiles\n",
        "model = build_advanced_model(cat_cardinalities, X_num_train.shape[1],\n",
        "                             emb_dropout=0.12, embed_dim_rule='sqrt',\n",
        "                             n_transformer_blocks=1, num_heads=2, key_dim=32, ff_dim=64,\n",
        "                             mlp_units=[256,128], mlp_dropout=0.15, l2_reg=1e-5)\n",
        "model.summary()"
      ],
      "metadata": {
        "colab": {
          "base_uri": "https://localhost:8080/",
          "height": 1000
        },
        "id": "4dcQWr9YcrKi",
        "outputId": "f60aa4d4-9ec6-4c29-ce2d-65154e54b1f5"
      },
      "execution_count": 12,
      "outputs": [
        {
          "output_type": "display_data",
          "data": {
            "text/plain": [
              "\u001b[1mModel: \"functional\"\u001b[0m\n"
            ],
            "text/html": [
              "<pre style=\"white-space:pre;overflow-x:auto;line-height:normal;font-family:Menlo,'DejaVu Sans Mono',consolas,'Courier New',monospace\"><span style=\"font-weight: bold\">Model: \"functional\"</span>\n",
              "</pre>\n"
            ]
          },
          "metadata": {}
        },
        {
          "output_type": "display_data",
          "data": {
            "text/plain": [
              "┏━━━━━━━━━━━━━━━━━━━━━┳━━━━━━━━━━━━━━━━━━━┳━━━━━━━━━━━━┳━━━━━━━━━━━━━━━━━━━┓\n",
              "┃\u001b[1m \u001b[0m\u001b[1mLayer (type)       \u001b[0m\u001b[1m \u001b[0m┃\u001b[1m \u001b[0m\u001b[1mOutput Shape     \u001b[0m\u001b[1m \u001b[0m┃\u001b[1m \u001b[0m\u001b[1m   Param #\u001b[0m\u001b[1m \u001b[0m┃\u001b[1m \u001b[0m\u001b[1mConnected to     \u001b[0m\u001b[1m \u001b[0m┃\n",
              "┡━━━━━━━━━━━━━━━━━━━━━╇━━━━━━━━━━━━━━━━━━━╇━━━━━━━━━━━━╇━━━━━━━━━━━━━━━━━━━┩\n",
              "│ cat (\u001b[38;5;33mInputLayer\u001b[0m)    │ (\u001b[38;5;45mNone\u001b[0m, \u001b[38;5;34m1\u001b[0m)         │          \u001b[38;5;34m0\u001b[0m │ -                 │\n",
              "├─────────────────────┼───────────────────┼────────────┼───────────────────┤\n",
              "│ lambda (\u001b[38;5;33mLambda\u001b[0m)     │ (\u001b[38;5;45mNone\u001b[0m, \u001b[38;5;34m1\u001b[0m)         │          \u001b[38;5;34m0\u001b[0m │ cat[\u001b[38;5;34m0\u001b[0m][\u001b[38;5;34m0\u001b[0m]         │\n",
              "├─────────────────────┼───────────────────┼────────────┼───────────────────┤\n",
              "│ embedding           │ (\u001b[38;5;45mNone\u001b[0m, \u001b[38;5;34m1\u001b[0m, \u001b[38;5;34m50\u001b[0m)     │    \u001b[38;5;34m500,100\u001b[0m │ lambda[\u001b[38;5;34m0\u001b[0m][\u001b[38;5;34m0\u001b[0m]      │\n",
              "│ (\u001b[38;5;33mEmbedding\u001b[0m)         │                   │            │                   │\n",
              "├─────────────────────┼───────────────────┼────────────┼───────────────────┤\n",
              "│ num (\u001b[38;5;33mInputLayer\u001b[0m)    │ (\u001b[38;5;45mNone\u001b[0m, \u001b[38;5;34m3\u001b[0m)         │          \u001b[38;5;34m0\u001b[0m │ -                 │\n",
              "├─────────────────────┼───────────────────┼────────────┼───────────────────┤\n",
              "│ reshape (\u001b[38;5;33mReshape\u001b[0m)   │ (\u001b[38;5;45mNone\u001b[0m, \u001b[38;5;34m50\u001b[0m)        │          \u001b[38;5;34m0\u001b[0m │ embedding[\u001b[38;5;34m0\u001b[0m][\u001b[38;5;34m0\u001b[0m]   │\n",
              "├─────────────────────┼───────────────────┼────────────┼───────────────────┤\n",
              "│ layer_normalization │ (\u001b[38;5;45mNone\u001b[0m, \u001b[38;5;34m3\u001b[0m)         │          \u001b[38;5;34m6\u001b[0m │ num[\u001b[38;5;34m0\u001b[0m][\u001b[38;5;34m0\u001b[0m]         │\n",
              "│ (\u001b[38;5;33mLayerNormalizatio…\u001b[0m │                   │            │                   │\n",
              "├─────────────────────┼───────────────────┼────────────┼───────────────────┤\n",
              "│ concatenate         │ (\u001b[38;5;45mNone\u001b[0m, \u001b[38;5;34m50\u001b[0m)        │          \u001b[38;5;34m0\u001b[0m │ reshape[\u001b[38;5;34m0\u001b[0m][\u001b[38;5;34m0\u001b[0m]     │\n",
              "│ (\u001b[38;5;33mConcatenate\u001b[0m)       │                   │            │                   │\n",
              "├─────────────────────┼───────────────────┼────────────┼───────────────────┤\n",
              "│ dense (\u001b[38;5;33mDense\u001b[0m)       │ (\u001b[38;5;45mNone\u001b[0m, \u001b[38;5;34m128\u001b[0m)       │        \u001b[38;5;34m512\u001b[0m │ layer_normalizat… │\n",
              "├─────────────────────┼───────────────────┼────────────┼───────────────────┤\n",
              "│ dropout (\u001b[38;5;33mDropout\u001b[0m)   │ (\u001b[38;5;45mNone\u001b[0m, \u001b[38;5;34m50\u001b[0m)        │          \u001b[38;5;34m0\u001b[0m │ concatenate[\u001b[38;5;34m0\u001b[0m][\u001b[38;5;34m0\u001b[0m] │\n",
              "├─────────────────────┼───────────────────┼────────────┼───────────────────┤\n",
              "│ dropout_1 (\u001b[38;5;33mDropout\u001b[0m) │ (\u001b[38;5;45mNone\u001b[0m, \u001b[38;5;34m128\u001b[0m)       │          \u001b[38;5;34m0\u001b[0m │ dense[\u001b[38;5;34m0\u001b[0m][\u001b[38;5;34m0\u001b[0m]       │\n",
              "├─────────────────────┼───────────────────┼────────────┼───────────────────┤\n",
              "│ lambda_1 (\u001b[38;5;33mLambda\u001b[0m)   │ (\u001b[38;5;45mNone\u001b[0m, \u001b[38;5;34m50\u001b[0m)        │          \u001b[38;5;34m0\u001b[0m │ dropout[\u001b[38;5;34m0\u001b[0m][\u001b[38;5;34m0\u001b[0m]     │\n",
              "├─────────────────────┼───────────────────┼────────────┼───────────────────┤\n",
              "│ dense_1 (\u001b[38;5;33mDense\u001b[0m)     │ (\u001b[38;5;45mNone\u001b[0m, \u001b[38;5;34m64\u001b[0m)        │      \u001b[38;5;34m8,256\u001b[0m │ dropout_1[\u001b[38;5;34m0\u001b[0m][\u001b[38;5;34m0\u001b[0m]   │\n",
              "├─────────────────────┼───────────────────┼────────────┼───────────────────┤\n",
              "│ dense_2 (\u001b[38;5;33mDense\u001b[0m)     │ (\u001b[38;5;45mNone\u001b[0m, \u001b[38;5;34m64\u001b[0m)        │      \u001b[38;5;34m3,264\u001b[0m │ lambda_1[\u001b[38;5;34m0\u001b[0m][\u001b[38;5;34m0\u001b[0m]    │\n",
              "├─────────────────────┼───────────────────┼────────────┼───────────────────┤\n",
              "│ reshape_2 (\u001b[38;5;33mReshape\u001b[0m) │ (\u001b[38;5;45mNone\u001b[0m, \u001b[38;5;34m1\u001b[0m, \u001b[38;5;34m64\u001b[0m)     │          \u001b[38;5;34m0\u001b[0m │ dense_1[\u001b[38;5;34m0\u001b[0m][\u001b[38;5;34m0\u001b[0m]     │\n",
              "├─────────────────────┼───────────────────┼────────────┼───────────────────┤\n",
              "│ reshape_1 (\u001b[38;5;33mReshape\u001b[0m) │ (\u001b[38;5;45mNone\u001b[0m, \u001b[38;5;34m1\u001b[0m, \u001b[38;5;34m64\u001b[0m)     │          \u001b[38;5;34m0\u001b[0m │ dense_2[\u001b[38;5;34m0\u001b[0m][\u001b[38;5;34m0\u001b[0m]     │\n",
              "├─────────────────────┼───────────────────┼────────────┼───────────────────┤\n",
              "│ concatenate_1       │ (\u001b[38;5;45mNone\u001b[0m, \u001b[38;5;34m2\u001b[0m, \u001b[38;5;34m64\u001b[0m)     │          \u001b[38;5;34m0\u001b[0m │ reshape_2[\u001b[38;5;34m0\u001b[0m][\u001b[38;5;34m0\u001b[0m],  │\n",
              "│ (\u001b[38;5;33mConcatenate\u001b[0m)       │                   │            │ reshape_1[\u001b[38;5;34m0\u001b[0m][\u001b[38;5;34m0\u001b[0m]   │\n",
              "├─────────────────────┼───────────────────┼────────────┼───────────────────┤\n",
              "│ multi_head_attenti… │ (\u001b[38;5;45mNone\u001b[0m, \u001b[38;5;34m2\u001b[0m, \u001b[38;5;34m64\u001b[0m)     │     \u001b[38;5;34m16,640\u001b[0m │ concatenate_1[\u001b[38;5;34m0\u001b[0m]… │\n",
              "│ (\u001b[38;5;33mMultiHeadAttentio…\u001b[0m │                   │            │ concatenate_1[\u001b[38;5;34m0\u001b[0m]… │\n",
              "├─────────────────────┼───────────────────┼────────────┼───────────────────┤\n",
              "│ dropout_3 (\u001b[38;5;33mDropout\u001b[0m) │ (\u001b[38;5;45mNone\u001b[0m, \u001b[38;5;34m2\u001b[0m, \u001b[38;5;34m64\u001b[0m)     │          \u001b[38;5;34m0\u001b[0m │ multi_head_atten… │\n",
              "├─────────────────────┼───────────────────┼────────────┼───────────────────┤\n",
              "│ add (\u001b[38;5;33mAdd\u001b[0m)           │ (\u001b[38;5;45mNone\u001b[0m, \u001b[38;5;34m2\u001b[0m, \u001b[38;5;34m64\u001b[0m)     │          \u001b[38;5;34m0\u001b[0m │ concatenate_1[\u001b[38;5;34m0\u001b[0m]… │\n",
              "│                     │                   │            │ dropout_3[\u001b[38;5;34m0\u001b[0m][\u001b[38;5;34m0\u001b[0m]   │\n",
              "├─────────────────────┼───────────────────┼────────────┼───────────────────┤\n",
              "│ layer_normalizatio… │ (\u001b[38;5;45mNone\u001b[0m, \u001b[38;5;34m2\u001b[0m, \u001b[38;5;34m64\u001b[0m)     │        \u001b[38;5;34m128\u001b[0m │ add[\u001b[38;5;34m0\u001b[0m][\u001b[38;5;34m0\u001b[0m]         │\n",
              "│ (\u001b[38;5;33mLayerNormalizatio…\u001b[0m │                   │            │                   │\n",
              "├─────────────────────┼───────────────────┼────────────┼───────────────────┤\n",
              "│ dense_3 (\u001b[38;5;33mDense\u001b[0m)     │ (\u001b[38;5;45mNone\u001b[0m, \u001b[38;5;34m2\u001b[0m, \u001b[38;5;34m64\u001b[0m)     │      \u001b[38;5;34m4,160\u001b[0m │ layer_normalizat… │\n",
              "├─────────────────────┼───────────────────┼────────────┼───────────────────┤\n",
              "│ dense_4 (\u001b[38;5;33mDense\u001b[0m)     │ (\u001b[38;5;45mNone\u001b[0m, \u001b[38;5;34m2\u001b[0m, \u001b[38;5;34m64\u001b[0m)     │      \u001b[38;5;34m4,160\u001b[0m │ dense_3[\u001b[38;5;34m0\u001b[0m][\u001b[38;5;34m0\u001b[0m]     │\n",
              "├─────────────────────┼───────────────────┼────────────┼───────────────────┤\n",
              "│ dropout_4 (\u001b[38;5;33mDropout\u001b[0m) │ (\u001b[38;5;45mNone\u001b[0m, \u001b[38;5;34m2\u001b[0m, \u001b[38;5;34m64\u001b[0m)     │          \u001b[38;5;34m0\u001b[0m │ dense_4[\u001b[38;5;34m0\u001b[0m][\u001b[38;5;34m0\u001b[0m]     │\n",
              "├─────────────────────┼───────────────────┼────────────┼───────────────────┤\n",
              "│ add_1 (\u001b[38;5;33mAdd\u001b[0m)         │ (\u001b[38;5;45mNone\u001b[0m, \u001b[38;5;34m2\u001b[0m, \u001b[38;5;34m64\u001b[0m)     │          \u001b[38;5;34m0\u001b[0m │ layer_normalizat… │\n",
              "│                     │                   │            │ dropout_4[\u001b[38;5;34m0\u001b[0m][\u001b[38;5;34m0\u001b[0m]   │\n",
              "├─────────────────────┼───────────────────┼────────────┼───────────────────┤\n",
              "│ layer_normalizatio… │ (\u001b[38;5;45mNone\u001b[0m, \u001b[38;5;34m2\u001b[0m, \u001b[38;5;34m64\u001b[0m)     │        \u001b[38;5;34m128\u001b[0m │ add_1[\u001b[38;5;34m0\u001b[0m][\u001b[38;5;34m0\u001b[0m]       │\n",
              "│ (\u001b[38;5;33mLayerNormalizatio…\u001b[0m │                   │            │                   │\n",
              "├─────────────────────┼───────────────────┼────────────┼───────────────────┤\n",
              "│ global_average_poo… │ (\u001b[38;5;45mNone\u001b[0m, \u001b[38;5;34m64\u001b[0m)        │          \u001b[38;5;34m0\u001b[0m │ layer_normalizat… │\n",
              "│ (\u001b[38;5;33mGlobalAveragePool…\u001b[0m │                   │            │                   │\n",
              "├─────────────────────┼───────────────────┼────────────┼───────────────────┤\n",
              "│ concatenate_2       │ (\u001b[38;5;45mNone\u001b[0m, \u001b[38;5;34m242\u001b[0m)       │          \u001b[38;5;34m0\u001b[0m │ global_average_p… │\n",
              "│ (\u001b[38;5;33mConcatenate\u001b[0m)       │                   │            │ dropout_1[\u001b[38;5;34m0\u001b[0m][\u001b[38;5;34m0\u001b[0m],  │\n",
              "│                     │                   │            │ dropout[\u001b[38;5;34m0\u001b[0m][\u001b[38;5;34m0\u001b[0m]     │\n",
              "├─────────────────────┼───────────────────┼────────────┼───────────────────┤\n",
              "│ dense_5 (\u001b[38;5;33mDense\u001b[0m)     │ (\u001b[38;5;45mNone\u001b[0m, \u001b[38;5;34m256\u001b[0m)       │     \u001b[38;5;34m62,208\u001b[0m │ concatenate_2[\u001b[38;5;34m0\u001b[0m]… │\n",
              "├─────────────────────┼───────────────────┼────────────┼───────────────────┤\n",
              "│ layer_normalizatio… │ (\u001b[38;5;45mNone\u001b[0m, \u001b[38;5;34m256\u001b[0m)       │        \u001b[38;5;34m512\u001b[0m │ dense_5[\u001b[38;5;34m0\u001b[0m][\u001b[38;5;34m0\u001b[0m]     │\n",
              "│ (\u001b[38;5;33mLayerNormalizatio…\u001b[0m │                   │            │                   │\n",
              "├─────────────────────┼───────────────────┼────────────┼───────────────────┤\n",
              "│ dropout_5 (\u001b[38;5;33mDropout\u001b[0m) │ (\u001b[38;5;45mNone\u001b[0m, \u001b[38;5;34m256\u001b[0m)       │          \u001b[38;5;34m0\u001b[0m │ layer_normalizat… │\n",
              "├─────────────────────┼───────────────────┼────────────┼───────────────────┤\n",
              "│ dense_6 (\u001b[38;5;33mDense\u001b[0m)     │ (\u001b[38;5;45mNone\u001b[0m, \u001b[38;5;34m128\u001b[0m)       │     \u001b[38;5;34m32,896\u001b[0m │ dropout_5[\u001b[38;5;34m0\u001b[0m][\u001b[38;5;34m0\u001b[0m]   │\n",
              "├─────────────────────┼───────────────────┼────────────┼───────────────────┤\n",
              "│ layer_normalizatio… │ (\u001b[38;5;45mNone\u001b[0m, \u001b[38;5;34m128\u001b[0m)       │        \u001b[38;5;34m256\u001b[0m │ dense_6[\u001b[38;5;34m0\u001b[0m][\u001b[38;5;34m0\u001b[0m]     │\n",
              "│ (\u001b[38;5;33mLayerNormalizatio…\u001b[0m │                   │            │                   │\n",
              "├─────────────────────┼───────────────────┼────────────┼───────────────────┤\n",
              "│ dropout_6 (\u001b[38;5;33mDropout\u001b[0m) │ (\u001b[38;5;45mNone\u001b[0m, \u001b[38;5;34m128\u001b[0m)       │          \u001b[38;5;34m0\u001b[0m │ layer_normalizat… │\n",
              "├─────────────────────┼───────────────────┼────────────┼───────────────────┤\n",
              "│ out (\u001b[38;5;33mDense\u001b[0m)         │ (\u001b[38;5;45mNone\u001b[0m, \u001b[38;5;34m3\u001b[0m)         │        \u001b[38;5;34m387\u001b[0m │ dropout_6[\u001b[38;5;34m0\u001b[0m][\u001b[38;5;34m0\u001b[0m]   │\n",
              "└─────────────────────┴───────────────────┴────────────┴───────────────────┘\n"
            ],
            "text/html": [
              "<pre style=\"white-space:pre;overflow-x:auto;line-height:normal;font-family:Menlo,'DejaVu Sans Mono',consolas,'Courier New',monospace\">┏━━━━━━━━━━━━━━━━━━━━━┳━━━━━━━━━━━━━━━━━━━┳━━━━━━━━━━━━┳━━━━━━━━━━━━━━━━━━━┓\n",
              "┃<span style=\"font-weight: bold\"> Layer (type)        </span>┃<span style=\"font-weight: bold\"> Output Shape      </span>┃<span style=\"font-weight: bold\">    Param # </span>┃<span style=\"font-weight: bold\"> Connected to      </span>┃\n",
              "┡━━━━━━━━━━━━━━━━━━━━━╇━━━━━━━━━━━━━━━━━━━╇━━━━━━━━━━━━╇━━━━━━━━━━━━━━━━━━━┩\n",
              "│ cat (<span style=\"color: #0087ff; text-decoration-color: #0087ff\">InputLayer</span>)    │ (<span style=\"color: #00d7ff; text-decoration-color: #00d7ff\">None</span>, <span style=\"color: #00af00; text-decoration-color: #00af00\">1</span>)         │          <span style=\"color: #00af00; text-decoration-color: #00af00\">0</span> │ -                 │\n",
              "├─────────────────────┼───────────────────┼────────────┼───────────────────┤\n",
              "│ lambda (<span style=\"color: #0087ff; text-decoration-color: #0087ff\">Lambda</span>)     │ (<span style=\"color: #00d7ff; text-decoration-color: #00d7ff\">None</span>, <span style=\"color: #00af00; text-decoration-color: #00af00\">1</span>)         │          <span style=\"color: #00af00; text-decoration-color: #00af00\">0</span> │ cat[<span style=\"color: #00af00; text-decoration-color: #00af00\">0</span>][<span style=\"color: #00af00; text-decoration-color: #00af00\">0</span>]         │\n",
              "├─────────────────────┼───────────────────┼────────────┼───────────────────┤\n",
              "│ embedding           │ (<span style=\"color: #00d7ff; text-decoration-color: #00d7ff\">None</span>, <span style=\"color: #00af00; text-decoration-color: #00af00\">1</span>, <span style=\"color: #00af00; text-decoration-color: #00af00\">50</span>)     │    <span style=\"color: #00af00; text-decoration-color: #00af00\">500,100</span> │ lambda[<span style=\"color: #00af00; text-decoration-color: #00af00\">0</span>][<span style=\"color: #00af00; text-decoration-color: #00af00\">0</span>]      │\n",
              "│ (<span style=\"color: #0087ff; text-decoration-color: #0087ff\">Embedding</span>)         │                   │            │                   │\n",
              "├─────────────────────┼───────────────────┼────────────┼───────────────────┤\n",
              "│ num (<span style=\"color: #0087ff; text-decoration-color: #0087ff\">InputLayer</span>)    │ (<span style=\"color: #00d7ff; text-decoration-color: #00d7ff\">None</span>, <span style=\"color: #00af00; text-decoration-color: #00af00\">3</span>)         │          <span style=\"color: #00af00; text-decoration-color: #00af00\">0</span> │ -                 │\n",
              "├─────────────────────┼───────────────────┼────────────┼───────────────────┤\n",
              "│ reshape (<span style=\"color: #0087ff; text-decoration-color: #0087ff\">Reshape</span>)   │ (<span style=\"color: #00d7ff; text-decoration-color: #00d7ff\">None</span>, <span style=\"color: #00af00; text-decoration-color: #00af00\">50</span>)        │          <span style=\"color: #00af00; text-decoration-color: #00af00\">0</span> │ embedding[<span style=\"color: #00af00; text-decoration-color: #00af00\">0</span>][<span style=\"color: #00af00; text-decoration-color: #00af00\">0</span>]   │\n",
              "├─────────────────────┼───────────────────┼────────────┼───────────────────┤\n",
              "│ layer_normalization │ (<span style=\"color: #00d7ff; text-decoration-color: #00d7ff\">None</span>, <span style=\"color: #00af00; text-decoration-color: #00af00\">3</span>)         │          <span style=\"color: #00af00; text-decoration-color: #00af00\">6</span> │ num[<span style=\"color: #00af00; text-decoration-color: #00af00\">0</span>][<span style=\"color: #00af00; text-decoration-color: #00af00\">0</span>]         │\n",
              "│ (<span style=\"color: #0087ff; text-decoration-color: #0087ff\">LayerNormalizatio…</span> │                   │            │                   │\n",
              "├─────────────────────┼───────────────────┼────────────┼───────────────────┤\n",
              "│ concatenate         │ (<span style=\"color: #00d7ff; text-decoration-color: #00d7ff\">None</span>, <span style=\"color: #00af00; text-decoration-color: #00af00\">50</span>)        │          <span style=\"color: #00af00; text-decoration-color: #00af00\">0</span> │ reshape[<span style=\"color: #00af00; text-decoration-color: #00af00\">0</span>][<span style=\"color: #00af00; text-decoration-color: #00af00\">0</span>]     │\n",
              "│ (<span style=\"color: #0087ff; text-decoration-color: #0087ff\">Concatenate</span>)       │                   │            │                   │\n",
              "├─────────────────────┼───────────────────┼────────────┼───────────────────┤\n",
              "│ dense (<span style=\"color: #0087ff; text-decoration-color: #0087ff\">Dense</span>)       │ (<span style=\"color: #00d7ff; text-decoration-color: #00d7ff\">None</span>, <span style=\"color: #00af00; text-decoration-color: #00af00\">128</span>)       │        <span style=\"color: #00af00; text-decoration-color: #00af00\">512</span> │ layer_normalizat… │\n",
              "├─────────────────────┼───────────────────┼────────────┼───────────────────┤\n",
              "│ dropout (<span style=\"color: #0087ff; text-decoration-color: #0087ff\">Dropout</span>)   │ (<span style=\"color: #00d7ff; text-decoration-color: #00d7ff\">None</span>, <span style=\"color: #00af00; text-decoration-color: #00af00\">50</span>)        │          <span style=\"color: #00af00; text-decoration-color: #00af00\">0</span> │ concatenate[<span style=\"color: #00af00; text-decoration-color: #00af00\">0</span>][<span style=\"color: #00af00; text-decoration-color: #00af00\">0</span>] │\n",
              "├─────────────────────┼───────────────────┼────────────┼───────────────────┤\n",
              "│ dropout_1 (<span style=\"color: #0087ff; text-decoration-color: #0087ff\">Dropout</span>) │ (<span style=\"color: #00d7ff; text-decoration-color: #00d7ff\">None</span>, <span style=\"color: #00af00; text-decoration-color: #00af00\">128</span>)       │          <span style=\"color: #00af00; text-decoration-color: #00af00\">0</span> │ dense[<span style=\"color: #00af00; text-decoration-color: #00af00\">0</span>][<span style=\"color: #00af00; text-decoration-color: #00af00\">0</span>]       │\n",
              "├─────────────────────┼───────────────────┼────────────┼───────────────────┤\n",
              "│ lambda_1 (<span style=\"color: #0087ff; text-decoration-color: #0087ff\">Lambda</span>)   │ (<span style=\"color: #00d7ff; text-decoration-color: #00d7ff\">None</span>, <span style=\"color: #00af00; text-decoration-color: #00af00\">50</span>)        │          <span style=\"color: #00af00; text-decoration-color: #00af00\">0</span> │ dropout[<span style=\"color: #00af00; text-decoration-color: #00af00\">0</span>][<span style=\"color: #00af00; text-decoration-color: #00af00\">0</span>]     │\n",
              "├─────────────────────┼───────────────────┼────────────┼───────────────────┤\n",
              "│ dense_1 (<span style=\"color: #0087ff; text-decoration-color: #0087ff\">Dense</span>)     │ (<span style=\"color: #00d7ff; text-decoration-color: #00d7ff\">None</span>, <span style=\"color: #00af00; text-decoration-color: #00af00\">64</span>)        │      <span style=\"color: #00af00; text-decoration-color: #00af00\">8,256</span> │ dropout_1[<span style=\"color: #00af00; text-decoration-color: #00af00\">0</span>][<span style=\"color: #00af00; text-decoration-color: #00af00\">0</span>]   │\n",
              "├─────────────────────┼───────────────────┼────────────┼───────────────────┤\n",
              "│ dense_2 (<span style=\"color: #0087ff; text-decoration-color: #0087ff\">Dense</span>)     │ (<span style=\"color: #00d7ff; text-decoration-color: #00d7ff\">None</span>, <span style=\"color: #00af00; text-decoration-color: #00af00\">64</span>)        │      <span style=\"color: #00af00; text-decoration-color: #00af00\">3,264</span> │ lambda_1[<span style=\"color: #00af00; text-decoration-color: #00af00\">0</span>][<span style=\"color: #00af00; text-decoration-color: #00af00\">0</span>]    │\n",
              "├─────────────────────┼───────────────────┼────────────┼───────────────────┤\n",
              "│ reshape_2 (<span style=\"color: #0087ff; text-decoration-color: #0087ff\">Reshape</span>) │ (<span style=\"color: #00d7ff; text-decoration-color: #00d7ff\">None</span>, <span style=\"color: #00af00; text-decoration-color: #00af00\">1</span>, <span style=\"color: #00af00; text-decoration-color: #00af00\">64</span>)     │          <span style=\"color: #00af00; text-decoration-color: #00af00\">0</span> │ dense_1[<span style=\"color: #00af00; text-decoration-color: #00af00\">0</span>][<span style=\"color: #00af00; text-decoration-color: #00af00\">0</span>]     │\n",
              "├─────────────────────┼───────────────────┼────────────┼───────────────────┤\n",
              "│ reshape_1 (<span style=\"color: #0087ff; text-decoration-color: #0087ff\">Reshape</span>) │ (<span style=\"color: #00d7ff; text-decoration-color: #00d7ff\">None</span>, <span style=\"color: #00af00; text-decoration-color: #00af00\">1</span>, <span style=\"color: #00af00; text-decoration-color: #00af00\">64</span>)     │          <span style=\"color: #00af00; text-decoration-color: #00af00\">0</span> │ dense_2[<span style=\"color: #00af00; text-decoration-color: #00af00\">0</span>][<span style=\"color: #00af00; text-decoration-color: #00af00\">0</span>]     │\n",
              "├─────────────────────┼───────────────────┼────────────┼───────────────────┤\n",
              "│ concatenate_1       │ (<span style=\"color: #00d7ff; text-decoration-color: #00d7ff\">None</span>, <span style=\"color: #00af00; text-decoration-color: #00af00\">2</span>, <span style=\"color: #00af00; text-decoration-color: #00af00\">64</span>)     │          <span style=\"color: #00af00; text-decoration-color: #00af00\">0</span> │ reshape_2[<span style=\"color: #00af00; text-decoration-color: #00af00\">0</span>][<span style=\"color: #00af00; text-decoration-color: #00af00\">0</span>],  │\n",
              "│ (<span style=\"color: #0087ff; text-decoration-color: #0087ff\">Concatenate</span>)       │                   │            │ reshape_1[<span style=\"color: #00af00; text-decoration-color: #00af00\">0</span>][<span style=\"color: #00af00; text-decoration-color: #00af00\">0</span>]   │\n",
              "├─────────────────────┼───────────────────┼────────────┼───────────────────┤\n",
              "│ multi_head_attenti… │ (<span style=\"color: #00d7ff; text-decoration-color: #00d7ff\">None</span>, <span style=\"color: #00af00; text-decoration-color: #00af00\">2</span>, <span style=\"color: #00af00; text-decoration-color: #00af00\">64</span>)     │     <span style=\"color: #00af00; text-decoration-color: #00af00\">16,640</span> │ concatenate_1[<span style=\"color: #00af00; text-decoration-color: #00af00\">0</span>]… │\n",
              "│ (<span style=\"color: #0087ff; text-decoration-color: #0087ff\">MultiHeadAttentio…</span> │                   │            │ concatenate_1[<span style=\"color: #00af00; text-decoration-color: #00af00\">0</span>]… │\n",
              "├─────────────────────┼───────────────────┼────────────┼───────────────────┤\n",
              "│ dropout_3 (<span style=\"color: #0087ff; text-decoration-color: #0087ff\">Dropout</span>) │ (<span style=\"color: #00d7ff; text-decoration-color: #00d7ff\">None</span>, <span style=\"color: #00af00; text-decoration-color: #00af00\">2</span>, <span style=\"color: #00af00; text-decoration-color: #00af00\">64</span>)     │          <span style=\"color: #00af00; text-decoration-color: #00af00\">0</span> │ multi_head_atten… │\n",
              "├─────────────────────┼───────────────────┼────────────┼───────────────────┤\n",
              "│ add (<span style=\"color: #0087ff; text-decoration-color: #0087ff\">Add</span>)           │ (<span style=\"color: #00d7ff; text-decoration-color: #00d7ff\">None</span>, <span style=\"color: #00af00; text-decoration-color: #00af00\">2</span>, <span style=\"color: #00af00; text-decoration-color: #00af00\">64</span>)     │          <span style=\"color: #00af00; text-decoration-color: #00af00\">0</span> │ concatenate_1[<span style=\"color: #00af00; text-decoration-color: #00af00\">0</span>]… │\n",
              "│                     │                   │            │ dropout_3[<span style=\"color: #00af00; text-decoration-color: #00af00\">0</span>][<span style=\"color: #00af00; text-decoration-color: #00af00\">0</span>]   │\n",
              "├─────────────────────┼───────────────────┼────────────┼───────────────────┤\n",
              "│ layer_normalizatio… │ (<span style=\"color: #00d7ff; text-decoration-color: #00d7ff\">None</span>, <span style=\"color: #00af00; text-decoration-color: #00af00\">2</span>, <span style=\"color: #00af00; text-decoration-color: #00af00\">64</span>)     │        <span style=\"color: #00af00; text-decoration-color: #00af00\">128</span> │ add[<span style=\"color: #00af00; text-decoration-color: #00af00\">0</span>][<span style=\"color: #00af00; text-decoration-color: #00af00\">0</span>]         │\n",
              "│ (<span style=\"color: #0087ff; text-decoration-color: #0087ff\">LayerNormalizatio…</span> │                   │            │                   │\n",
              "├─────────────────────┼───────────────────┼────────────┼───────────────────┤\n",
              "│ dense_3 (<span style=\"color: #0087ff; text-decoration-color: #0087ff\">Dense</span>)     │ (<span style=\"color: #00d7ff; text-decoration-color: #00d7ff\">None</span>, <span style=\"color: #00af00; text-decoration-color: #00af00\">2</span>, <span style=\"color: #00af00; text-decoration-color: #00af00\">64</span>)     │      <span style=\"color: #00af00; text-decoration-color: #00af00\">4,160</span> │ layer_normalizat… │\n",
              "├─────────────────────┼───────────────────┼────────────┼───────────────────┤\n",
              "│ dense_4 (<span style=\"color: #0087ff; text-decoration-color: #0087ff\">Dense</span>)     │ (<span style=\"color: #00d7ff; text-decoration-color: #00d7ff\">None</span>, <span style=\"color: #00af00; text-decoration-color: #00af00\">2</span>, <span style=\"color: #00af00; text-decoration-color: #00af00\">64</span>)     │      <span style=\"color: #00af00; text-decoration-color: #00af00\">4,160</span> │ dense_3[<span style=\"color: #00af00; text-decoration-color: #00af00\">0</span>][<span style=\"color: #00af00; text-decoration-color: #00af00\">0</span>]     │\n",
              "├─────────────────────┼───────────────────┼────────────┼───────────────────┤\n",
              "│ dropout_4 (<span style=\"color: #0087ff; text-decoration-color: #0087ff\">Dropout</span>) │ (<span style=\"color: #00d7ff; text-decoration-color: #00d7ff\">None</span>, <span style=\"color: #00af00; text-decoration-color: #00af00\">2</span>, <span style=\"color: #00af00; text-decoration-color: #00af00\">64</span>)     │          <span style=\"color: #00af00; text-decoration-color: #00af00\">0</span> │ dense_4[<span style=\"color: #00af00; text-decoration-color: #00af00\">0</span>][<span style=\"color: #00af00; text-decoration-color: #00af00\">0</span>]     │\n",
              "├─────────────────────┼───────────────────┼────────────┼───────────────────┤\n",
              "│ add_1 (<span style=\"color: #0087ff; text-decoration-color: #0087ff\">Add</span>)         │ (<span style=\"color: #00d7ff; text-decoration-color: #00d7ff\">None</span>, <span style=\"color: #00af00; text-decoration-color: #00af00\">2</span>, <span style=\"color: #00af00; text-decoration-color: #00af00\">64</span>)     │          <span style=\"color: #00af00; text-decoration-color: #00af00\">0</span> │ layer_normalizat… │\n",
              "│                     │                   │            │ dropout_4[<span style=\"color: #00af00; text-decoration-color: #00af00\">0</span>][<span style=\"color: #00af00; text-decoration-color: #00af00\">0</span>]   │\n",
              "├─────────────────────┼───────────────────┼────────────┼───────────────────┤\n",
              "│ layer_normalizatio… │ (<span style=\"color: #00d7ff; text-decoration-color: #00d7ff\">None</span>, <span style=\"color: #00af00; text-decoration-color: #00af00\">2</span>, <span style=\"color: #00af00; text-decoration-color: #00af00\">64</span>)     │        <span style=\"color: #00af00; text-decoration-color: #00af00\">128</span> │ add_1[<span style=\"color: #00af00; text-decoration-color: #00af00\">0</span>][<span style=\"color: #00af00; text-decoration-color: #00af00\">0</span>]       │\n",
              "│ (<span style=\"color: #0087ff; text-decoration-color: #0087ff\">LayerNormalizatio…</span> │                   │            │                   │\n",
              "├─────────────────────┼───────────────────┼────────────┼───────────────────┤\n",
              "│ global_average_poo… │ (<span style=\"color: #00d7ff; text-decoration-color: #00d7ff\">None</span>, <span style=\"color: #00af00; text-decoration-color: #00af00\">64</span>)        │          <span style=\"color: #00af00; text-decoration-color: #00af00\">0</span> │ layer_normalizat… │\n",
              "│ (<span style=\"color: #0087ff; text-decoration-color: #0087ff\">GlobalAveragePool…</span> │                   │            │                   │\n",
              "├─────────────────────┼───────────────────┼────────────┼───────────────────┤\n",
              "│ concatenate_2       │ (<span style=\"color: #00d7ff; text-decoration-color: #00d7ff\">None</span>, <span style=\"color: #00af00; text-decoration-color: #00af00\">242</span>)       │          <span style=\"color: #00af00; text-decoration-color: #00af00\">0</span> │ global_average_p… │\n",
              "│ (<span style=\"color: #0087ff; text-decoration-color: #0087ff\">Concatenate</span>)       │                   │            │ dropout_1[<span style=\"color: #00af00; text-decoration-color: #00af00\">0</span>][<span style=\"color: #00af00; text-decoration-color: #00af00\">0</span>],  │\n",
              "│                     │                   │            │ dropout[<span style=\"color: #00af00; text-decoration-color: #00af00\">0</span>][<span style=\"color: #00af00; text-decoration-color: #00af00\">0</span>]     │\n",
              "├─────────────────────┼───────────────────┼────────────┼───────────────────┤\n",
              "│ dense_5 (<span style=\"color: #0087ff; text-decoration-color: #0087ff\">Dense</span>)     │ (<span style=\"color: #00d7ff; text-decoration-color: #00d7ff\">None</span>, <span style=\"color: #00af00; text-decoration-color: #00af00\">256</span>)       │     <span style=\"color: #00af00; text-decoration-color: #00af00\">62,208</span> │ concatenate_2[<span style=\"color: #00af00; text-decoration-color: #00af00\">0</span>]… │\n",
              "├─────────────────────┼───────────────────┼────────────┼───────────────────┤\n",
              "│ layer_normalizatio… │ (<span style=\"color: #00d7ff; text-decoration-color: #00d7ff\">None</span>, <span style=\"color: #00af00; text-decoration-color: #00af00\">256</span>)       │        <span style=\"color: #00af00; text-decoration-color: #00af00\">512</span> │ dense_5[<span style=\"color: #00af00; text-decoration-color: #00af00\">0</span>][<span style=\"color: #00af00; text-decoration-color: #00af00\">0</span>]     │\n",
              "│ (<span style=\"color: #0087ff; text-decoration-color: #0087ff\">LayerNormalizatio…</span> │                   │            │                   │\n",
              "├─────────────────────┼───────────────────┼────────────┼───────────────────┤\n",
              "│ dropout_5 (<span style=\"color: #0087ff; text-decoration-color: #0087ff\">Dropout</span>) │ (<span style=\"color: #00d7ff; text-decoration-color: #00d7ff\">None</span>, <span style=\"color: #00af00; text-decoration-color: #00af00\">256</span>)       │          <span style=\"color: #00af00; text-decoration-color: #00af00\">0</span> │ layer_normalizat… │\n",
              "├─────────────────────┼───────────────────┼────────────┼───────────────────┤\n",
              "│ dense_6 (<span style=\"color: #0087ff; text-decoration-color: #0087ff\">Dense</span>)     │ (<span style=\"color: #00d7ff; text-decoration-color: #00d7ff\">None</span>, <span style=\"color: #00af00; text-decoration-color: #00af00\">128</span>)       │     <span style=\"color: #00af00; text-decoration-color: #00af00\">32,896</span> │ dropout_5[<span style=\"color: #00af00; text-decoration-color: #00af00\">0</span>][<span style=\"color: #00af00; text-decoration-color: #00af00\">0</span>]   │\n",
              "├─────────────────────┼───────────────────┼────────────┼───────────────────┤\n",
              "│ layer_normalizatio… │ (<span style=\"color: #00d7ff; text-decoration-color: #00d7ff\">None</span>, <span style=\"color: #00af00; text-decoration-color: #00af00\">128</span>)       │        <span style=\"color: #00af00; text-decoration-color: #00af00\">256</span> │ dense_6[<span style=\"color: #00af00; text-decoration-color: #00af00\">0</span>][<span style=\"color: #00af00; text-decoration-color: #00af00\">0</span>]     │\n",
              "│ (<span style=\"color: #0087ff; text-decoration-color: #0087ff\">LayerNormalizatio…</span> │                   │            │                   │\n",
              "├─────────────────────┼───────────────────┼────────────┼───────────────────┤\n",
              "│ dropout_6 (<span style=\"color: #0087ff; text-decoration-color: #0087ff\">Dropout</span>) │ (<span style=\"color: #00d7ff; text-decoration-color: #00d7ff\">None</span>, <span style=\"color: #00af00; text-decoration-color: #00af00\">128</span>)       │          <span style=\"color: #00af00; text-decoration-color: #00af00\">0</span> │ layer_normalizat… │\n",
              "├─────────────────────┼───────────────────┼────────────┼───────────────────┤\n",
              "│ out (<span style=\"color: #0087ff; text-decoration-color: #0087ff\">Dense</span>)         │ (<span style=\"color: #00d7ff; text-decoration-color: #00d7ff\">None</span>, <span style=\"color: #00af00; text-decoration-color: #00af00\">3</span>)         │        <span style=\"color: #00af00; text-decoration-color: #00af00\">387</span> │ dropout_6[<span style=\"color: #00af00; text-decoration-color: #00af00\">0</span>][<span style=\"color: #00af00; text-decoration-color: #00af00\">0</span>]   │\n",
              "└─────────────────────┴───────────────────┴────────────┴───────────────────┘\n",
              "</pre>\n"
            ]
          },
          "metadata": {}
        },
        {
          "output_type": "display_data",
          "data": {
            "text/plain": [
              "\u001b[1m Total params: \u001b[0m\u001b[38;5;34m633,613\u001b[0m (2.42 MB)\n"
            ],
            "text/html": [
              "<pre style=\"white-space:pre;overflow-x:auto;line-height:normal;font-family:Menlo,'DejaVu Sans Mono',consolas,'Courier New',monospace\"><span style=\"font-weight: bold\"> Total params: </span><span style=\"color: #00af00; text-decoration-color: #00af00\">633,613</span> (2.42 MB)\n",
              "</pre>\n"
            ]
          },
          "metadata": {}
        },
        {
          "output_type": "display_data",
          "data": {
            "text/plain": [
              "\u001b[1m Trainable params: \u001b[0m\u001b[38;5;34m633,613\u001b[0m (2.42 MB)\n"
            ],
            "text/html": [
              "<pre style=\"white-space:pre;overflow-x:auto;line-height:normal;font-family:Menlo,'DejaVu Sans Mono',consolas,'Courier New',monospace\"><span style=\"font-weight: bold\"> Trainable params: </span><span style=\"color: #00af00; text-decoration-color: #00af00\">633,613</span> (2.42 MB)\n",
              "</pre>\n"
            ]
          },
          "metadata": {}
        },
        {
          "output_type": "display_data",
          "data": {
            "text/plain": [
              "\u001b[1m Non-trainable params: \u001b[0m\u001b[38;5;34m0\u001b[0m (0.00 B)\n"
            ],
            "text/html": [
              "<pre style=\"white-space:pre;overflow-x:auto;line-height:normal;font-family:Menlo,'DejaVu Sans Mono',consolas,'Courier New',monospace\"><span style=\"font-weight: bold\"> Non-trainable params: </span><span style=\"color: #00af00; text-decoration-color: #00af00\">0</span> (0.00 B)\n",
              "</pre>\n"
            ]
          },
          "metadata": {}
        }
      ]
    },
    {
      "cell_type": "code",
      "source": [
        "# Quick K-Fold smoke test (small folds/epochs)\n",
        "N_FOLDS = 3\n",
        "BATCH_SIZE = 256\n",
        "EPOCHS = 8\n",
        "\n",
        "kf = StratifiedKFold(n_splits=N_FOLDS, shuffle=True, random_state=42) if (problem_type!='regression') else KFold(n_splits=N_FOLDS, shuffle=True, random_state=42)\n",
        "\n",
        "oof = np.zeros((len(X_num_train),) if problem_type!='multiclass' else (len(X_num_train), int(np.unique(y).shape[0])))\n",
        "test_pred = np.zeros((len(X_num_test),) if problem_type!='multiclass' else (len(X_num_test), int(np.unique(y).shape[0])))\n",
        "\n",
        "for fold, (tr, val) in enumerate(kf.split(X_num_train, y if problem_type!='regression' else None)):\n",
        "    print('\\nFold', fold+1)\n",
        "    Xn_tr, Xn_val = X_num_train[tr], X_num_train[val]\n",
        "    Xc_tr, Xc_val = X_cat_train[tr], X_cat_train[val]\n",
        "    y_tr, y_val = y[tr], y[val]\n",
        "\n",
        "    ds_tr = make_dataset(Xn_tr, Xc_tr, y_tr, batch_size=BATCH_SIZE, shuffle=True, augment=True)\n",
        "    ds_val = make_dataset(Xn_val, Xc_val, y_val, batch_size=BATCH_SIZE, shuffle=False)\n",
        "\n",
        "    model = build_advanced_model(cat_cardinalities, X_num_train.shape[1],\n",
        "                                 emb_dropout=0.12, embed_dim_rule='sqrt',\n",
        "                                 n_transformer_blocks=1, num_heads=2, key_dim=32, ff_dim=64,\n",
        "                                 mlp_units=[256,128], mlp_dropout=0.15, l2_reg=1e-5)\n",
        "    ckpt = f'quick_fold_{fold+1}.h5'\n",
        "    callbacks = [\n",
        "        tf.keras.callbacks.EarlyStopping(monitor='val_loss', patience=3, restore_best_weights=True, verbose=1),\n",
        "        tf.keras.callbacks.ReduceLROnPlateau(monitor='val_loss', patience=2, factor=0.5, verbose=1),\n",
        "        tf.keras.callbacks.ModelCheckpoint(ckpt, save_best_only=True, monitor='val_loss', verbose=0)\n",
        "    ]\n",
        "    history = model.fit(ds_tr, validation_data=ds_val, epochs=EPOCHS, callbacks=callbacks, verbose=2)\n",
        "    val_preds = model.predict(make_dataset(Xn_val, Xc_val, y=None, batch_size=512), verbose=0)\n",
        "    if problem_type == 'multiclass':\n",
        "        oof[val] = val_preds\n",
        "    else:\n",
        "        oof[val] = val_preds.reshape(-1)\n",
        "    test_fold = model.predict(make_dataset(X_num_test, X_cat_test, y=None, batch_size=512), verbose=0)\n",
        "    if problem_type == 'multiclass':\n",
        "        test_pred += test_fold / N_FOLDS\n",
        "    else:\n",
        "        test_pred += test_fold.reshape(-1) / N_FOLDS\n",
        "\n",
        "if problem_type == 'regression':\n",
        "    print('Quick CV RMSE:', mean_squared_error(y, oof, squared=False))\n",
        "elif problem_type == 'binary':\n",
        "    print('Quick CV AUC:', roc_auc_score(y, oof))\n",
        "else:\n",
        "    print('Quick CV logloss:', log_loss(y, oof), 'acc:', accuracy_score(y, np.argmax(oof, axis=1)))"
      ],
      "metadata": {
        "colab": {
          "base_uri": "https://localhost:8080/"
        },
        "id": "n7l8xh5KdGWj",
        "outputId": "64dbba1f-5db5-40eb-f830-d75578a4080a"
      },
      "execution_count": 13,
      "outputs": [
        {
          "output_type": "stream",
          "name": "stdout",
          "text": [
            "\n",
            "Fold 1\n",
            "Epoch 1/8\n"
          ]
        },
        {
          "output_type": "stream",
          "name": "stderr",
          "text": [
            "WARNING:absl:You are saving your model as an HDF5 file via `model.save()` or `keras.saving.save_model(model)`. This file format is considered legacy. We recommend using instead the native Keras format, e.g. `model.save('my_model.keras')` or `keras.saving.save_model(model, 'my_model.keras')`. \n"
          ]
        },
        {
          "output_type": "stream",
          "name": "stdout",
          "text": [
            "125/125 - 19s - 156ms/step - loss: 0.7735 - sparse_categorical_accuracy: 0.5095 - val_loss: 0.7275 - val_sparse_categorical_accuracy: 0.4669 - learning_rate: 1.0000e-03\n",
            "Epoch 2/8\n"
          ]
        },
        {
          "output_type": "stream",
          "name": "stderr",
          "text": [
            "WARNING:absl:You are saving your model as an HDF5 file via `model.save()` or `keras.saving.save_model(model)`. This file format is considered legacy. We recommend using instead the native Keras format, e.g. `model.save('my_model.keras')` or `keras.saving.save_model(model, 'my_model.keras')`. \n"
          ]
        },
        {
          "output_type": "stream",
          "name": "stdout",
          "text": [
            "125/125 - 6s - 49ms/step - loss: 0.7290 - sparse_categorical_accuracy: 0.5235 - val_loss: 0.7218 - val_sparse_categorical_accuracy: 0.5376 - learning_rate: 1.0000e-03\n",
            "Epoch 3/8\n",
            "125/125 - 10s - 82ms/step - loss: 0.6460 - sparse_categorical_accuracy: 0.5932 - val_loss: 0.7646 - val_sparse_categorical_accuracy: 0.5394 - learning_rate: 1.0000e-03\n",
            "Epoch 4/8\n",
            "\n",
            "Epoch 4: ReduceLROnPlateau reducing learning rate to 0.0005000000237487257.\n",
            "125/125 - 8s - 62ms/step - loss: 0.5817 - sparse_categorical_accuracy: 0.6224 - val_loss: 1.0857 - val_sparse_categorical_accuracy: 0.5394 - learning_rate: 1.0000e-03\n",
            "Epoch 5/8\n",
            "125/125 - 9s - 69ms/step - loss: 0.5760 - sparse_categorical_accuracy: 0.6274 - val_loss: 1.0787 - val_sparse_categorical_accuracy: 0.4283 - learning_rate: 5.0000e-04\n",
            "Epoch 5: early stopping\n",
            "Restoring model weights from the end of the best epoch: 2.\n",
            "\n",
            "Fold 2\n",
            "Epoch 1/8\n"
          ]
        },
        {
          "output_type": "stream",
          "name": "stderr",
          "text": [
            "WARNING:absl:You are saving your model as an HDF5 file via `model.save()` or `keras.saving.save_model(model)`. This file format is considered legacy. We recommend using instead the native Keras format, e.g. `model.save('my_model.keras')` or `keras.saving.save_model(model, 'my_model.keras')`. \n"
          ]
        },
        {
          "output_type": "stream",
          "name": "stdout",
          "text": [
            "125/125 - 17s - 136ms/step - loss: 0.7868 - sparse_categorical_accuracy: 0.5081 - val_loss: 0.7265 - val_sparse_categorical_accuracy: 0.5375 - learning_rate: 1.0000e-03\n",
            "Epoch 2/8\n"
          ]
        },
        {
          "output_type": "stream",
          "name": "stderr",
          "text": [
            "WARNING:absl:You are saving your model as an HDF5 file via `model.save()` or `keras.saving.save_model(model)`. This file format is considered legacy. We recommend using instead the native Keras format, e.g. `model.save('my_model.keras')` or `keras.saving.save_model(model, 'my_model.keras')`. \n"
          ]
        },
        {
          "output_type": "stream",
          "name": "stdout",
          "text": [
            "125/125 - 6s - 50ms/step - loss: 0.7326 - sparse_categorical_accuracy: 0.5163 - val_loss: 0.7209 - val_sparse_categorical_accuracy: 0.5375 - learning_rate: 1.0000e-03\n",
            "Epoch 3/8\n",
            "125/125 - 10s - 83ms/step - loss: 0.7181 - sparse_categorical_accuracy: 0.5358 - val_loss: 0.7443 - val_sparse_categorical_accuracy: 0.5209 - learning_rate: 1.0000e-03\n",
            "Epoch 4/8\n",
            "\n",
            "Epoch 4: ReduceLROnPlateau reducing learning rate to 0.0005000000237487257.\n",
            "125/125 - 8s - 62ms/step - loss: 0.6085 - sparse_categorical_accuracy: 0.6095 - val_loss: 0.8509 - val_sparse_categorical_accuracy: 0.5400 - learning_rate: 1.0000e-03\n",
            "Epoch 5/8\n",
            "125/125 - 6s - 49ms/step - loss: 0.5790 - sparse_categorical_accuracy: 0.6252 - val_loss: 0.8825 - val_sparse_categorical_accuracy: 0.5400 - learning_rate: 5.0000e-04\n",
            "Epoch 5: early stopping\n",
            "Restoring model weights from the end of the best epoch: 2.\n",
            "\n",
            "Fold 3\n",
            "Epoch 1/8\n"
          ]
        },
        {
          "output_type": "stream",
          "name": "stderr",
          "text": [
            "WARNING:absl:You are saving your model as an HDF5 file via `model.save()` or `keras.saving.save_model(model)`. This file format is considered legacy. We recommend using instead the native Keras format, e.g. `model.save('my_model.keras')` or `keras.saving.save_model(model, 'my_model.keras')`. \n"
          ]
        },
        {
          "output_type": "stream",
          "name": "stdout",
          "text": [
            "125/125 - 15s - 120ms/step - loss: 0.7914 - sparse_categorical_accuracy: 0.5084 - val_loss: 0.7210 - val_sparse_categorical_accuracy: 0.5374 - learning_rate: 1.0000e-03\n",
            "Epoch 2/8\n",
            "125/125 - 10s - 78ms/step - loss: 0.7312 - sparse_categorical_accuracy: 0.5174 - val_loss: 0.7211 - val_sparse_categorical_accuracy: 0.5374 - learning_rate: 1.0000e-03\n",
            "Epoch 3/8\n",
            "125/125 - 8s - 66ms/step - loss: 0.6888 - sparse_categorical_accuracy: 0.5650 - val_loss: 0.7467 - val_sparse_categorical_accuracy: 0.5236 - learning_rate: 1.0000e-03\n",
            "Epoch 4/8\n",
            "125/125 - 6s - 49ms/step - loss: 0.5915 - sparse_categorical_accuracy: 0.6157 - val_loss: 0.8736 - val_sparse_categorical_accuracy: 0.5238 - learning_rate: 5.0000e-04\n",
            "Epoch 4: early stopping\n",
            "Restoring model weights from the end of the best epoch: 1.\n",
            "Quick CV logloss: 0.7136496808206424 acc: 0.5375\n"
          ]
        },
        {
          "output_type": "stream",
          "name": "stderr",
          "text": [
            "/usr/local/lib/python3.12/dist-packages/sklearn/metrics/_classification.py:3001: UserWarning: The y_pred values do not sum to one. Make sure to pass probabilities.\n",
            "  warnings.warn(\n"
          ]
        }
      ]
    },
    {
      "cell_type": "code",
      "source": [
        "# Keras-Tuner (small budget example)\n",
        "import keras_tuner as kt\n",
        "from sklearn.model_selection import train_test_split\n",
        "\n",
        "class AdvancedHyperModel(kt.HyperModel):\n",
        "    def build(self, hp):\n",
        "        n_blocks = hp.Int('n_blocks', 1, 2)\n",
        "        heads = hp.Choice('heads', [2,4])\n",
        "        ff_dim = hp.Choice('ff_dim', [64,128])\n",
        "        mlp1 = hp.Int('mlp1', 128, 384, step=128)\n",
        "        drop = hp.Float('drop', 0.0, 0.3, step=0.05)\n",
        "        return build_advanced_model(cat_cardinalities, X_num_train.shape[1],\n",
        "                                    emb_dropout=hp.Float('emb_drop', 0.0, 0.2),\n",
        "                                    n_transformer_blocks=n_blocks, num_heads=heads, key_dim=32, ff_dim=ff_dim,\n",
        "                                    mlp_units=[mlp1, max(64, mlp1//2)], mlp_dropout=drop, l2_reg=1e-5)\n",
        "\n",
        "tuner = kt.RandomSearch(AdvancedHyperModel(), objective='val_loss', max_trials=4, executions_per_trial=1, directory='kt_dir', project_name='tf_adv')\n",
        "SUBSET = min(5000, len(X_num_train))\n",
        "\n",
        "# Split data into training and validation sets\n",
        "Xn_train_sub, Xn_val_sub, Xc_train_sub, Xc_val_sub, y_train_sub, y_val_sub = train_test_split(\n",
        "    X_num_train[:SUBSET], X_cat_train[:SUBSET], y[:SUBSET], test_size=0.2, random_state=42\n",
        ")\n",
        "\n",
        "# Create tf.data datasets for training and validation\n",
        "ds_tr = make_dataset(Xn_train_sub, Xc_train_sub, y_train_sub, shuffle=True)\n",
        "ds_val = make_dataset(Xn_val_sub, Xc_val_sub, y_val_sub, shuffle=False)\n",
        "\n",
        "\n",
        "tuner.search(ds_tr, epochs=6, validation_data=ds_val)\n",
        "print('Best hyperparameters:', tuner.get_best_hyperparameters(1)[0].values)"
      ],
      "metadata": {
        "colab": {
          "base_uri": "https://localhost:8080/"
        },
        "id": "cmHJZ19jdMRF",
        "outputId": "27c4c162-44c6-4385-ce82-b9384796139d"
      },
      "execution_count": 15,
      "outputs": [
        {
          "output_type": "stream",
          "name": "stdout",
          "text": [
            "Trial 4 Complete [00h 00m 23s]\n",
            "val_loss: 0.7056900262832642\n",
            "\n",
            "Best val_loss So Far: 0.7050557732582092\n",
            "Total elapsed time: 00h 01m 34s\n",
            "Best hyperparameters: {'n_blocks': 2, 'heads': 4, 'ff_dim': 64, 'mlp1': 384, 'drop': 0.15000000000000002, 'emb_drop': 0.19439959418277064}\n"
          ]
        }
      ]
    },
    {
      "cell_type": "code",
      "source": [
        "# Final training using tuner results (if available), otherwise defaults\n",
        "try:\n",
        "    best_hp = tuner.get_best_hyperparameters(1)[0]\n",
        "    n_blocks = best_hp.get('n_blocks'); heads = best_hp.get('heads'); ff_dim = best_hp.get('ff_dim')\n",
        "    mlp1 = best_hp.get('mlp1'); drop = best_hp.get('drop'); emb_drop = best_hp.get('emb_drop')\n",
        "    mlp_units = [mlp1, max(64, mlp1//2)]\n",
        "    n_transformer_blocks = n_blocks; num_heads = heads; key_dim = 32; mlp_dropout = drop; emb_dropout = emb_drop\n",
        "    print('Using tuner hyperparams:', best_hp.values)\n",
        "except Exception as e:\n",
        "    print('No tuner results, using defaults'); n_transformer_blocks=2; num_heads=4; key_dim=32; ff_dim=128; mlp_units=[512,256]; mlp_dropout=0.2; emb_dropout=0.12\n",
        "\n",
        "N_FOLDS = 5\n",
        "BATCH_SIZE = 256\n",
        "EPOCHS = 50\n",
        "kf = StratifiedKFold(n_splits=N_FOLDS, shuffle=True, random_state=42) if (problem_type!='regression') else KFold(n_splits=N_FOLDS, shuffle=True, random_state=42)\n",
        "\n",
        "oof_final = np.zeros((len(X_num_train),) if problem_type!='multiclass' else (len(X_num_train), int(np.unique(y).shape[0])))\n",
        "test_final = np.zeros((len(X_num_test),) if problem_type!='multiclass' else (len(X_num_test), int(np.unique(y).shape[0])))\n",
        "\n",
        "for fold, (tr, val) in enumerate(kf.split(X_num_train, y if problem_type!='regression' else None)):\n",
        "    print('\\nFinal Fold', fold+1)\n",
        "    Xn_tr, Xn_val = X_num_train[tr], X_num_train[val]\n",
        "    Xc_tr, Xc_val = X_cat_train[tr], X_cat_train[val]\n",
        "    y_tr, y_val = y[tr], y[val]\n",
        "\n",
        "    ds_tr = make_dataset(Xn_tr, Xc_tr, y_tr, batch_size=BATCH_SIZE, shuffle=True, augment=True)\n",
        "    ds_val = make_dataset(Xn_val, Xc_val, y_val, batch_size=BATCH_SIZE, shuffle=False)\n",
        "    ds_test = make_dataset(X_num_test, X_cat_test, y=None, batch_size=512, shuffle=False)\n",
        "\n",
        "    model = build_advanced_model(cat_cardinalities, X_num_train.shape[1],\n",
        "                                 emb_dropout=emb_dropout, embed_dim_rule='sqrt',\n",
        "                                 n_transformer_blocks=n_transformer_blocks, num_heads=num_heads, key_dim=key_dim, ff_dim=ff_dim,\n",
        "                                 mlp_units=mlp_units, mlp_dropout=mlp_dropout, l2_reg=1e-5)\n",
        "\n",
        "    ckpt = f'final_model_fold_{fold+1}.h5'\n",
        "    callbacks = [\n",
        "        tf.keras.callbacks.EarlyStopping(monitor='val_loss', patience=8, restore_best_weights=True, verbose=1),\n",
        "        tf.keras.callbacks.ReduceLROnPlateau(monitor='val_loss', patience=3, factor=0.5, verbose=1),\n",
        "        tf.keras.callbacks.ModelCheckpoint(ckpt, save_best_only=True, monitor='val_loss', verbose=0)\n",
        "    ]\n",
        "\n",
        "    history = model.fit(ds_tr, validation_data=ds_val, epochs=EPOCHS, callbacks=callbacks, verbose=2)\n",
        "    val_preds = model.predict(make_dataset(Xn_val, Xc_val, y=None, batch_size=512), verbose=0)\n",
        "    if problem_type == 'multiclass':\n",
        "        oof_final[val] = val_preds\n",
        "    else:\n",
        "        oof_final[val] = val_preds.reshape(-1)\n",
        "    test_fold = model.predict(ds_test, verbose=0)\n",
        "    if problem_type == 'multiclass':\n",
        "        test_final += test_fold / N_FOLDS\n",
        "    else:\n",
        "        test_final += test_fold.reshape(-1) / N_FOLDS\n",
        "\n",
        "if problem_type == 'regression':\n",
        "    print('\\nFinal CV RMSE:', mean_squared_error(y, oof_final, squared=False))\n",
        "elif problem_type == 'binary':\n",
        "    print('\\nFinal CV AUC:', roc_auc_score(y, oof_final))\n",
        "else:\n",
        "    print('\\nFinal CV logloss:', log_loss(y, oof_final), 'CV acc:', accuracy_score(y, np.argmax(oof_final, axis=1)))"
      ],
      "metadata": {
        "colab": {
          "base_uri": "https://localhost:8080/"
        },
        "id": "VqnYhTDxd1qJ",
        "outputId": "bb0443d0-614e-494d-e68c-36fa99f02f1d"
      },
      "execution_count": 16,
      "outputs": [
        {
          "output_type": "stream",
          "name": "stdout",
          "text": [
            "Using tuner hyperparams: {'n_blocks': 2, 'heads': 4, 'ff_dim': 64, 'mlp1': 384, 'drop': 0.15000000000000002, 'emb_drop': 0.19439959418277064}\n",
            "\n",
            "Final Fold 1\n",
            "Epoch 1/50\n"
          ]
        },
        {
          "output_type": "stream",
          "name": "stderr",
          "text": [
            "WARNING:absl:You are saving your model as an HDF5 file via `model.save()` or `keras.saving.save_model(model)`. This file format is considered legacy. We recommend using instead the native Keras format, e.g. `model.save('my_model.keras')` or `keras.saving.save_model(model, 'my_model.keras')`. \n"
          ]
        },
        {
          "output_type": "stream",
          "name": "stdout",
          "text": [
            "150/150 - 31s - 210ms/step - loss: 0.7723 - sparse_categorical_accuracy: 0.5117 - val_loss: 0.7228 - val_sparse_categorical_accuracy: 0.5375 - learning_rate: 1.0000e-03\n",
            "Epoch 2/50\n",
            "150/150 - 16s - 108ms/step - loss: 0.7315 - sparse_categorical_accuracy: 0.5172 - val_loss: 0.7228 - val_sparse_categorical_accuracy: 0.5375 - learning_rate: 1.0000e-03\n",
            "Epoch 3/50\n",
            "150/150 - 15s - 102ms/step - loss: 0.6859 - sparse_categorical_accuracy: 0.5646 - val_loss: 0.7344 - val_sparse_categorical_accuracy: 0.5279 - learning_rate: 1.0000e-03\n",
            "Epoch 4/50\n"
          ]
        },
        {
          "output_type": "stream",
          "name": "stderr",
          "text": [
            "WARNING:absl:You are saving your model as an HDF5 file via `model.save()` or `keras.saving.save_model(model)`. This file format is considered legacy. We recommend using instead the native Keras format, e.g. `model.save('my_model.keras')` or `keras.saving.save_model(model, 'my_model.keras')`. \n"
          ]
        },
        {
          "output_type": "stream",
          "name": "stdout",
          "text": [
            "150/150 - 21s - 140ms/step - loss: 0.5882 - sparse_categorical_accuracy: 0.6226 - val_loss: 0.7214 - val_sparse_categorical_accuracy: 0.5392 - learning_rate: 1.0000e-03\n",
            "Epoch 5/50\n",
            "150/150 - 20s - 135ms/step - loss: 0.5802 - sparse_categorical_accuracy: 0.6233 - val_loss: 0.9271 - val_sparse_categorical_accuracy: 0.5403 - learning_rate: 1.0000e-03\n",
            "Epoch 6/50\n",
            "150/150 - 16s - 104ms/step - loss: 0.5774 - sparse_categorical_accuracy: 0.6237 - val_loss: 0.8025 - val_sparse_categorical_accuracy: 0.5403 - learning_rate: 1.0000e-03\n",
            "Epoch 7/50\n",
            "\n",
            "Epoch 7: ReduceLROnPlateau reducing learning rate to 0.0005000000237487257.\n",
            "150/150 - 21s - 140ms/step - loss: 0.5761 - sparse_categorical_accuracy: 0.6258 - val_loss: 1.0918 - val_sparse_categorical_accuracy: 0.5403 - learning_rate: 1.0000e-03\n",
            "Epoch 8/50\n",
            "150/150 - 20s - 130ms/step - loss: 0.5741 - sparse_categorical_accuracy: 0.6271 - val_loss: 0.8641 - val_sparse_categorical_accuracy: 0.5403 - learning_rate: 5.0000e-04\n",
            "Epoch 9/50\n",
            "150/150 - 21s - 139ms/step - loss: 0.5737 - sparse_categorical_accuracy: 0.6298 - val_loss: 0.8946 - val_sparse_categorical_accuracy: 0.5403 - learning_rate: 5.0000e-04\n",
            "Epoch 10/50\n",
            "\n",
            "Epoch 10: ReduceLROnPlateau reducing learning rate to 0.0002500000118743628.\n",
            "150/150 - 15s - 101ms/step - loss: 0.5728 - sparse_categorical_accuracy: 0.6304 - val_loss: 0.8428 - val_sparse_categorical_accuracy: 0.5407 - learning_rate: 5.0000e-04\n",
            "Epoch 11/50\n",
            "150/150 - 15s - 101ms/step - loss: 0.5722 - sparse_categorical_accuracy: 0.6311 - val_loss: 0.9613 - val_sparse_categorical_accuracy: 0.5403 - learning_rate: 2.5000e-04\n",
            "Epoch 12/50\n",
            "150/150 - 16s - 105ms/step - loss: 0.5729 - sparse_categorical_accuracy: 0.6303 - val_loss: 0.9185 - val_sparse_categorical_accuracy: 0.5403 - learning_rate: 2.5000e-04\n",
            "Epoch 12: early stopping\n",
            "Restoring model weights from the end of the best epoch: 4.\n",
            "\n",
            "Final Fold 2\n",
            "Epoch 1/50\n"
          ]
        },
        {
          "output_type": "stream",
          "name": "stderr",
          "text": [
            "WARNING:absl:You are saving your model as an HDF5 file via `model.save()` or `keras.saving.save_model(model)`. This file format is considered legacy. We recommend using instead the native Keras format, e.g. `model.save('my_model.keras')` or `keras.saving.save_model(model, 'my_model.keras')`. \n"
          ]
        },
        {
          "output_type": "stream",
          "name": "stdout",
          "text": [
            "150/150 - 29s - 192ms/step - loss: 0.7713 - sparse_categorical_accuracy: 0.5084 - val_loss: 0.7238 - val_sparse_categorical_accuracy: 0.5383 - learning_rate: 1.0000e-03\n",
            "Epoch 2/50\n",
            "Epoch 3/50\n"
          ]
        },
        {
          "output_type": "stream",
          "name": "stderr",
          "text": [
            "WARNING:absl:You are saving your model as an HDF5 file via `model.save()` or `keras.saving.save_model(model)`. This file format is considered legacy. We recommend using instead the native Keras format, e.g. `model.save('my_model.keras')` or `keras.saving.save_model(model, 'my_model.keras')`. \n"
          ]
        },
        {
          "output_type": "stream",
          "name": "stdout",
          "text": [
            "150/150 - 16s - 104ms/step - loss: 0.7271 - sparse_categorical_accuracy: 0.5242 - val_loss: 0.7228 - val_sparse_categorical_accuracy: 0.5392 - learning_rate: 1.0000e-03\n",
            "Epoch 4/50\n"
          ]
        },
        {
          "output_type": "stream",
          "name": "stderr",
          "text": [
            "WARNING:absl:You are saving your model as an HDF5 file via `model.save()` or `keras.saving.save_model(model)`. This file format is considered legacy. We recommend using instead the native Keras format, e.g. `model.save('my_model.keras')` or `keras.saving.save_model(model, 'my_model.keras')`. \n"
          ]
        },
        {
          "output_type": "stream",
          "name": "stdout",
          "text": [
            "150/150 - 17s - 113ms/step - loss: 0.6122 - sparse_categorical_accuracy: 0.6093 - val_loss: 0.7223 - val_sparse_categorical_accuracy: 0.5395 - learning_rate: 1.0000e-03\n",
            "Epoch 5/50\n",
            "150/150 - 19s - 128ms/step - loss: 0.5813 - sparse_categorical_accuracy: 0.6265 - val_loss: 1.1390 - val_sparse_categorical_accuracy: 0.5158 - learning_rate: 1.0000e-03\n",
            "Epoch 6/50\n",
            "150/150 - 15s - 101ms/step - loss: 0.5767 - sparse_categorical_accuracy: 0.6292 - val_loss: 0.7278 - val_sparse_categorical_accuracy: 0.5385 - learning_rate: 1.0000e-03\n",
            "Epoch 7/50\n",
            "\n",
            "Epoch 7: ReduceLROnPlateau reducing learning rate to 0.0005000000237487257.\n",
            "150/150 - 21s - 140ms/step - loss: 0.5754 - sparse_categorical_accuracy: 0.6287 - val_loss: 1.4373 - val_sparse_categorical_accuracy: 0.5158 - learning_rate: 1.0000e-03\n",
            "Epoch 8/50\n",
            "150/150 - 17s - 112ms/step - loss: 0.5734 - sparse_categorical_accuracy: 0.6316 - val_loss: 1.0137 - val_sparse_categorical_accuracy: 0.5158 - learning_rate: 5.0000e-04\n",
            "Epoch 9/50\n",
            "150/150 - 19s - 129ms/step - loss: 0.5725 - sparse_categorical_accuracy: 0.6316 - val_loss: 0.9699 - val_sparse_categorical_accuracy: 0.5158 - learning_rate: 5.0000e-04\n",
            "Epoch 10/50\n",
            "\n",
            "Epoch 10: ReduceLROnPlateau reducing learning rate to 0.0002500000118743628.\n",
            "150/150 - 16s - 104ms/step - loss: 0.5725 - sparse_categorical_accuracy: 0.6327 - val_loss: 0.8977 - val_sparse_categorical_accuracy: 0.5158 - learning_rate: 5.0000e-04\n",
            "Epoch 11/50\n",
            "150/150 - 20s - 134ms/step - loss: 0.5722 - sparse_categorical_accuracy: 0.6320 - val_loss: 0.8370 - val_sparse_categorical_accuracy: 0.5158 - learning_rate: 2.5000e-04\n",
            "Epoch 12/50\n",
            "150/150 - 16s - 104ms/step - loss: 0.5719 - sparse_categorical_accuracy: 0.6329 - val_loss: 0.7419 - val_sparse_categorical_accuracy: 0.5158 - learning_rate: 2.5000e-04\n",
            "Epoch 12: early stopping\n",
            "Restoring model weights from the end of the best epoch: 4.\n",
            "\n",
            "Final Fold 3\n",
            "Epoch 1/50\n"
          ]
        },
        {
          "output_type": "stream",
          "name": "stderr",
          "text": [
            "WARNING:absl:You are saving your model as an HDF5 file via `model.save()` or `keras.saving.save_model(model)`. This file format is considered legacy. We recommend using instead the native Keras format, e.g. `model.save('my_model.keras')` or `keras.saving.save_model(model, 'my_model.keras')`. \n"
          ]
        },
        {
          "output_type": "stream",
          "name": "stdout",
          "text": [
            "150/150 - 27s - 180ms/step - loss: 0.7640 - sparse_categorical_accuracy: 0.5089 - val_loss: 0.7233 - val_sparse_categorical_accuracy: 0.5375 - learning_rate: 1.0000e-03\n",
            "Epoch 2/50\n"
          ]
        },
        {
          "output_type": "stream",
          "name": "stderr",
          "text": [
            "WARNING:absl:You are saving your model as an HDF5 file via `model.save()` or `keras.saving.save_model(model)`. This file format is considered legacy. We recommend using instead the native Keras format, e.g. `model.save('my_model.keras')` or `keras.saving.save_model(model, 'my_model.keras')`. \n"
          ]
        },
        {
          "output_type": "stream",
          "name": "stdout",
          "text": [
            "150/150 - 18s - 120ms/step - loss: 0.7316 - sparse_categorical_accuracy: 0.5169 - val_loss: 0.7231 - val_sparse_categorical_accuracy: 0.5375 - learning_rate: 1.0000e-03\n",
            "Epoch 3/50\n"
          ]
        },
        {
          "output_type": "stream",
          "name": "stderr",
          "text": [
            "WARNING:absl:You are saving your model as an HDF5 file via `model.save()` or `keras.saving.save_model(model)`. This file format is considered legacy. We recommend using instead the native Keras format, e.g. `model.save('my_model.keras')` or `keras.saving.save_model(model, 'my_model.keras')`. \n"
          ]
        },
        {
          "output_type": "stream",
          "name": "stdout",
          "text": [
            "150/150 - 16s - 107ms/step - loss: 0.7265 - sparse_categorical_accuracy: 0.5239 - val_loss: 0.7228 - val_sparse_categorical_accuracy: 0.5375 - learning_rate: 1.0000e-03\n",
            "Epoch 4/50\n",
            "150/150 - 16s - 105ms/step - loss: 0.6283 - sparse_categorical_accuracy: 0.6002 - val_loss: 0.7303 - val_sparse_categorical_accuracy: 0.5292 - learning_rate: 1.0000e-03\n",
            "Epoch 5/50\n",
            "150/150 - 15s - 103ms/step - loss: 0.5816 - sparse_categorical_accuracy: 0.6245 - val_loss: 0.7634 - val_sparse_categorical_accuracy: 0.5370 - learning_rate: 1.0000e-03\n",
            "Epoch 6/50\n",
            "\n",
            "Epoch 6: ReduceLROnPlateau reducing learning rate to 0.0005000000237487257.\n",
            "150/150 - 15s - 102ms/step - loss: 0.5802 - sparse_categorical_accuracy: 0.6215 - val_loss: 0.9290 - val_sparse_categorical_accuracy: 0.5405 - learning_rate: 1.0000e-03\n",
            "Epoch 7/50\n",
            "150/150 - 20s - 135ms/step - loss: 0.5748 - sparse_categorical_accuracy: 0.6261 - val_loss: 0.9475 - val_sparse_categorical_accuracy: 0.5407 - learning_rate: 5.0000e-04\n",
            "Epoch 8/50\n",
            "150/150 - 20s - 136ms/step - loss: 0.5744 - sparse_categorical_accuracy: 0.6267 - val_loss: 1.0045 - val_sparse_categorical_accuracy: 0.5405 - learning_rate: 5.0000e-04\n",
            "Epoch 9/50\n",
            "\n",
            "Epoch 9: ReduceLROnPlateau reducing learning rate to 0.0002500000118743628.\n",
            "150/150 - 15s - 103ms/step - loss: 0.5738 - sparse_categorical_accuracy: 0.6267 - val_loss: 1.2806 - val_sparse_categorical_accuracy: 0.5405 - learning_rate: 5.0000e-04\n",
            "Epoch 10/50\n",
            "150/150 - 17s - 115ms/step - loss: 0.5730 - sparse_categorical_accuracy: 0.6282 - val_loss: 1.2168 - val_sparse_categorical_accuracy: 0.5405 - learning_rate: 2.5000e-04\n",
            "Epoch 11/50\n",
            "150/150 - 16s - 104ms/step - loss: 0.5729 - sparse_categorical_accuracy: 0.6306 - val_loss: 1.2948 - val_sparse_categorical_accuracy: 0.5405 - learning_rate: 2.5000e-04\n",
            "Epoch 11: early stopping\n",
            "Restoring model weights from the end of the best epoch: 3.\n",
            "\n",
            "Final Fold 4\n",
            "Epoch 1/50\n"
          ]
        },
        {
          "output_type": "stream",
          "name": "stderr",
          "text": [
            "WARNING:absl:You are saving your model as an HDF5 file via `model.save()` or `keras.saving.save_model(model)`. This file format is considered legacy. We recommend using instead the native Keras format, e.g. `model.save('my_model.keras')` or `keras.saving.save_model(model, 'my_model.keras')`. \n"
          ]
        },
        {
          "output_type": "stream",
          "name": "stdout",
          "text": [
            "150/150 - 29s - 195ms/step - loss: 0.7865 - sparse_categorical_accuracy: 0.5072 - val_loss: 0.7237 - val_sparse_categorical_accuracy: 0.5374 - learning_rate: 1.0000e-03\n",
            "Epoch 2/50\n"
          ]
        },
        {
          "output_type": "stream",
          "name": "stderr",
          "text": [
            "WARNING:absl:You are saving your model as an HDF5 file via `model.save()` or `keras.saving.save_model(model)`. This file format is considered legacy. We recommend using instead the native Keras format, e.g. `model.save('my_model.keras')` or `keras.saving.save_model(model, 'my_model.keras')`. \n"
          ]
        },
        {
          "output_type": "stream",
          "name": "stdout",
          "text": [
            "150/150 - 19s - 125ms/step - loss: 0.7306 - sparse_categorical_accuracy: 0.5209 - val_loss: 0.7235 - val_sparse_categorical_accuracy: 0.5374 - learning_rate: 1.0000e-03\n",
            "Epoch 3/50\n",
            "150/150 - 15s - 101ms/step - loss: 0.6807 - sparse_categorical_accuracy: 0.5713 - val_loss: 0.7334 - val_sparse_categorical_accuracy: 0.5218 - learning_rate: 1.0000e-03\n",
            "Epoch 4/50\n",
            "150/150 - 21s - 140ms/step - loss: 0.5881 - sparse_categorical_accuracy: 0.6197 - val_loss: 0.9577 - val_sparse_categorical_accuracy: 0.5399 - learning_rate: 1.0000e-03\n",
            "Epoch 5/50\n",
            "\n",
            "Epoch 5: ReduceLROnPlateau reducing learning rate to 0.0005000000237487257.\n",
            "150/150 - 16s - 109ms/step - loss: 0.5803 - sparse_categorical_accuracy: 0.6246 - val_loss: 0.9088 - val_sparse_categorical_accuracy: 0.5197 - learning_rate: 1.0000e-03\n",
            "Epoch 6/50\n",
            "150/150 - 16s - 104ms/step - loss: 0.5784 - sparse_categorical_accuracy: 0.6275 - val_loss: 0.7590 - val_sparse_categorical_accuracy: 0.5258 - learning_rate: 5.0000e-04\n",
            "Epoch 7/50\n",
            "150/150 - 16s - 104ms/step - loss: 0.5765 - sparse_categorical_accuracy: 0.6270 - val_loss: 1.2041 - val_sparse_categorical_accuracy: 0.4456 - learning_rate: 5.0000e-04\n",
            "Epoch 8/50\n",
            "\n",
            "Epoch 8: ReduceLROnPlateau reducing learning rate to 0.0002500000118743628.\n",
            "150/150 - 16s - 104ms/step - loss: 0.5759 - sparse_categorical_accuracy: 0.6274 - val_loss: 1.3726 - val_sparse_categorical_accuracy: 0.4631 - learning_rate: 5.0000e-04\n",
            "Epoch 9/50\n",
            "150/150 - 21s - 139ms/step - loss: 0.5746 - sparse_categorical_accuracy: 0.6287 - val_loss: 1.0447 - val_sparse_categorical_accuracy: 0.4632 - learning_rate: 2.5000e-04\n",
            "Epoch 10/50\n",
            "150/150 - 20s - 133ms/step - loss: 0.5741 - sparse_categorical_accuracy: 0.6312 - val_loss: 1.0326 - val_sparse_categorical_accuracy: 0.5399 - learning_rate: 2.5000e-04\n",
            "Epoch 10: early stopping\n",
            "Restoring model weights from the end of the best epoch: 2.\n",
            "\n",
            "Final Fold 5\n",
            "Epoch 1/50\n",
            "150/150 - 28s - 185ms/step - loss: 0.7683 - sparse_categorical_accuracy: 0.5083 - val_loss: 0.7304 - val_sparse_categorical_accuracy: 0.5374 - learning_rate: 1.0000e-03\n",
            "Epoch 2/50\n"
          ]
        },
        {
          "output_type": "stream",
          "name": "stderr",
          "text": [
            "WARNING:absl:You are saving your model as an HDF5 file via `model.save()` or `keras.saving.save_model(model)`. This file format is considered legacy. We recommend using instead the native Keras format, e.g. `model.save('my_model.keras')` or `keras.saving.save_model(model, 'my_model.keras')`. \n"
          ]
        },
        {
          "output_type": "stream",
          "name": "stdout",
          "text": [
            "150/150 - 15s - 102ms/step - loss: 0.7307 - sparse_categorical_accuracy: 0.5172 - val_loss: 0.7233 - val_sparse_categorical_accuracy: 0.5374 - learning_rate: 1.0000e-03\n",
            "Epoch 3/50\n",
            "150/150 - 21s - 141ms/step - loss: 0.7280 - sparse_categorical_accuracy: 0.5229 - val_loss: 0.7245 - val_sparse_categorical_accuracy: 0.5374 - learning_rate: 1.0000e-03\n",
            "Epoch 4/50\n",
            "150/150 - 15s - 101ms/step - loss: 0.6490 - sparse_categorical_accuracy: 0.5946 - val_loss: 0.7237 - val_sparse_categorical_accuracy: 0.5367 - learning_rate: 1.0000e-03\n",
            "Epoch 5/50\n",
            "\n",
            "Epoch 5: ReduceLROnPlateau reducing learning rate to 0.0005000000237487257.\n",
            "150/150 - 21s - 140ms/step - loss: 0.5809 - sparse_categorical_accuracy: 0.6242 - val_loss: 1.0004 - val_sparse_categorical_accuracy: 0.5398 - learning_rate: 1.0000e-03\n",
            "Epoch 6/50\n",
            "150/150 - 17s - 112ms/step - loss: 0.5778 - sparse_categorical_accuracy: 0.6285 - val_loss: 0.9272 - val_sparse_categorical_accuracy: 0.5398 - learning_rate: 5.0000e-04\n",
            "Epoch 7/50\n",
            "150/150 - 16s - 104ms/step - loss: 0.5764 - sparse_categorical_accuracy: 0.6289 - val_loss: 0.8790 - val_sparse_categorical_accuracy: 0.5398 - learning_rate: 5.0000e-04\n",
            "Epoch 8/50\n",
            "\n",
            "Epoch 8: ReduceLROnPlateau reducing learning rate to 0.0002500000118743628.\n",
            "150/150 - 30s - 200ms/step - loss: 0.5740 - sparse_categorical_accuracy: 0.6310 - val_loss: 1.2454 - val_sparse_categorical_accuracy: 0.5398 - learning_rate: 5.0000e-04\n",
            "Epoch 9/50\n",
            "150/150 - 30s - 202ms/step - loss: 0.5729 - sparse_categorical_accuracy: 0.6297 - val_loss: 1.1018 - val_sparse_categorical_accuracy: 0.5398 - learning_rate: 2.5000e-04\n",
            "Epoch 10/50\n",
            "150/150 - 17s - 112ms/step - loss: 0.5723 - sparse_categorical_accuracy: 0.6316 - val_loss: 1.1021 - val_sparse_categorical_accuracy: 0.5398 - learning_rate: 2.5000e-04\n",
            "Epoch 10: early stopping\n",
            "Restoring model weights from the end of the best epoch: 2.\n",
            "\n",
            "Final CV logloss: 0.7126322946163446 CV acc: 0.5381875\n"
          ]
        },
        {
          "output_type": "stream",
          "name": "stderr",
          "text": [
            "/usr/local/lib/python3.12/dist-packages/sklearn/metrics/_classification.py:3001: UserWarning: The y_pred values do not sum to one. Make sure to pass probabilities.\n",
            "  warnings.warn(\n"
          ]
        }
      ]
    },
    {
      "cell_type": "code",
      "source": [
        "import shap\n",
        "import numpy as np\n",
        "\n",
        "print(\"Computing SHAP with wrapped model...\")\n",
        "\n",
        "# Combine numeric + categorical inputs into one array for SHAP\n",
        "def model_wrapper(X):\n",
        "    # Split back into num and cat parts for model prediction\n",
        "    n_num = X_num_train.shape[1]\n",
        "    num = X[:, :n_num]\n",
        "    cat = X[:, n_num:].astype(np.int32)\n",
        "    return model({'num': num, 'cat': cat}).numpy()\n",
        "\n",
        "# Prepare background and explanation samples\n",
        "bg_n = min(200, len(X_num_train))\n",
        "bg_idx = np.random.choice(len(X_num_train), bg_n, replace=False)\n",
        "expl_idx = np.random.choice(len(X_num_train), min(200, len(X_num_train)), replace=False)\n",
        "\n",
        "# Concatenate numeric + categorical into one array\n",
        "X_bg = np.concatenate([X_num_train[bg_idx], X_cat_train[bg_idx]], axis=1)\n",
        "X_expl = np.concatenate([X_num_train[expl_idx], X_cat_train[expl_idx]], axis=1)\n",
        "\n",
        "# Create SHAP explainer on the wrapper\n",
        "explainer = shap.Explainer(model_wrapper, X_bg)\n",
        "\n",
        "# Compute SHAP values\n",
        "shap_values = explainer(X_expl)\n",
        "\n",
        "# Plot\n",
        "shap.summary_plot(shap_values, show=True)"
      ],
      "metadata": {
        "colab": {
          "base_uri": "https://localhost:8080/",
          "height": 406
        },
        "id": "AdpnINZBezuq",
        "outputId": "59cf0a0a-00f8-4f35-cb3b-c6619a2b6550"
      },
      "execution_count": 24,
      "outputs": [
        {
          "output_type": "stream",
          "name": "stdout",
          "text": [
            "Computing SHAP with wrapped model...\n"
          ]
        },
        {
          "output_type": "stream",
          "name": "stderr",
          "text": [
            "ExactExplainer explainer: 201it [01:04,  2.71it/s]\n",
            "/tmp/ipython-input-236506130.py:30: FutureWarning: The NumPy global RNG was seeded by calling `np.random.seed`. In a future version this function will no longer use the global RNG. Pass `rng` explicitly to opt-in to the new behaviour and silence this warning.\n",
            "  shap.summary_plot(shap_values, show=True)\n"
          ]
        },
        {
          "output_type": "display_data",
          "data": {
            "text/plain": [
              "<Figure size 800x310 with 1 Axes>"
            ],
            "image/png": "[encoded data removed]"
          },
          "metadata": {}
        }
      ]
    },
    {
      "cell_type": "code",
      "source": [
        "# Save final submission\n",
        "sub = sample_submission.copy()\n",
        "id_col = sub.columns[0]\n",
        "target_cols = sub.columns.tolist()[1:]\n",
        "\n",
        "# Ensure the submission DataFrame has the same index as the test data\n",
        "sub = pd.DataFrame({id_col: test[id_col]})\n",
        "\n",
        "if problem_type == 'multiclass':\n",
        "    # Assuming test_final predictions are in the same order as test dataframe\n",
        "    if len(target_cols) == test_final.shape[1]:\n",
        "        for i,col in enumerate(target_cols):\n",
        "            sub[col] = test_final[:, i]\n",
        "    else:\n",
        "        # If target columns in sample submission don't match prediction shape,\n",
        "        # assume it's a single target column and use argmax for multiclass\n",
        "        sub[target_cols[0]] = np.argmax(test_final, axis=1)\n",
        "else:\n",
        "    sub[target_cols[0]] = test_final\n",
        "out_name = 'submission_tf_full_complete.csv'\n",
        "sub.to_csv(out_name, index=False)\n",
        "print('Saved', out_name)"
      ],
      "metadata": {
        "colab": {
          "base_uri": "https://localhost:8080/"
        },
        "id": "HDsQfzOZitTp",
        "outputId": "f242db25-75b7-4c02-abfd-3d4d99d02a5a"
      },
      "execution_count": 26,
      "outputs": [
        {
          "output_type": "stream",
          "name": "stdout",
          "text": [
            "Saved submission_tf_full_complete.csv\n"
          ]
        }
      ]
    },
    {
      "cell_type": "code",
      "source": [
        "# ============================================================\n",
        "# 🔍 Model Evaluation / Testing Cell\n",
        "# ============================================================\n",
        "\n",
        "import numpy as np\n",
        "from sklearn.metrics import mean_squared_error, roc_auc_score, accuracy_score, log_loss\n",
        "\n",
        "print(\"🔍 Evaluating model performance...\")\n",
        "\n",
        "# ---------------------------\n",
        "# 1️⃣  Predict on validation or training data\n",
        "# ---------------------------\n",
        "# (Here we'll predict on all training data for quick inspection)\n",
        "y_pred = model.predict({'num': X_num_train, 'cat': X_cat_train}, batch_size=512, verbose=1)\n",
        "\n",
        "# ---------------------------\n",
        "# 2️⃣  Evaluate based on problem type\n",
        "# ---------------------------\n",
        "if problem_type == \"regression\":\n",
        "    rmse = mean_squared_error(y, y_pred, squared=False)\n",
        "    print(f\"✅ RMSE: {rmse:.5f}\")\n",
        "\n",
        "elif problem_type == \"binary\":\n",
        "    auc = roc_auc_score(y, y_pred)\n",
        "    acc = accuracy_score(y, (y_pred > 0.5).astype(int))\n",
        "    print(f\"✅ AUC: {auc:.5f} | ACC: {acc:.5f}\")\n",
        "\n",
        "elif problem_type == \"multiclass\":\n",
        "    y_pred_probs = y_pred\n",
        "    y_pred_labels = np.argmax(y_pred_probs, axis=1)\n",
        "    acc = accuracy_score(y, y_pred_labels)\n",
        "    loss = log_loss(y, y_pred_probs)\n",
        "    print(f\"✅ LogLoss: {loss:.5f} | ACC: {acc:.5f}\")\n",
        "\n",
        "# ---------------------------\n",
        "# 3️⃣  Optional: Predict on test set and preview\n",
        "# ---------------------------\n",
        "test_pred = model.predict({'num': X_num_test, 'cat': X_cat_test}, batch_size=512, verbose=1)\n",
        "\n",
        "print(\"\\n🧾 Test prediction preview:\")\n",
        "print(test_pred[:10].flatten() if test_pred.ndim == 2 else test_pred[:10])"
      ],
      "metadata": {
        "colab": {
          "base_uri": "https://localhost:8080/"
        },
        "id": "MMy-kCM-l77U",
        "outputId": "6c3c029d-3d8e-4ded-a7e0-2076fceac403"
      },
      "execution_count": 27,
      "outputs": [
        {
          "output_type": "stream",
          "name": "stdout",
          "text": [
            "🔍 Evaluating model performance...\n",
            "\u001b[1m94/94\u001b[0m \u001b[32m━━━━━━━━━━━━━━━━━━━━\u001b[0m\u001b[37m\u001b[0m \u001b[1m9s\u001b[0m 91ms/step\n",
            "✅ LogLoss: 0.71301 | ACC: 0.53746\n",
            "\u001b[1m24/24\u001b[0m \u001b[32m━━━━━━━━━━━━━━━━━━━━\u001b[0m\u001b[37m\u001b[0m \u001b[1m2s\u001b[0m 86ms/step\n",
            "\n",
            "🧾 Test prediction preview:\n",
            "[0.55971295 0.4367438  0.00354327 0.55971295 0.43674383 0.00354327\n",
            " 0.5597129  0.4367439  0.00354327 0.5597128  0.43674394 0.00354327\n",
            " 0.5597127  0.43674397 0.00354327 0.55971265 0.43674394 0.00354327\n",
            " 0.55971265 0.4367441  0.00354326 0.55971265 0.43674412 0.00354326\n",
            " 0.5597125  0.4367442  0.00354326 0.5597125  0.43674424 0.00354326]\n"
          ]
        }
      ]
    }
  ]
}